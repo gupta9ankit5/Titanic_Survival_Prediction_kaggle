{
  "nbformat": 4,
  "nbformat_minor": 0,
  "metadata": {
    "colab": {
      "name": "Titanic_Survival_Prediction.ipynb",
      "provenance": [],
      "collapsed_sections": []
    },
    "kernelspec": {
      "name": "python3",
      "display_name": "Python 3"
    },
    "language_info": {
      "name": "python"
    }
  },
  "cells": [
    {
      "cell_type": "code",
      "metadata": {
        "id": "52Wf62z6A6TM",
        "colab": {
          "base_uri": "https://localhost:8080/"
        },
        "outputId": "535b8957-739f-48e7-e5da-656a735fa8d8"
      },
      "source": [
        "import os\n",
        "from google.colab import drive\n",
        "import warnings\n",
        "warnings.filterwarnings('ignore')\n",
        "import numpy as np\n",
        "import pandas as pd\n",
        "import matplotlib.pyplot as plt\n",
        "import seaborn as sns\n",
        "import re\n",
        "import time\n",
        "from sklearn.model_selection import train_test_split\n",
        "from sklearn.manifold import TSNE\n",
        "from sklearn.linear_model import LogisticRegression\n",
        "from sklearn.neighbors import KNeighborsClassifier\n",
        "from sklearn.svm import SVC\n",
        "from sklearn.naive_bayes import MultinomialNB\n",
        "from sklearn.tree import DecisionTreeClassifier\n",
        "from sklearn.ensemble import RandomForestClassifier\n",
        "from xgboost import XGBClassifier\n",
        "from sklearn.model_selection import RandomizedSearchCV\n",
        "from sklearn.model_selection import GridSearchCV\n",
        "from scipy.stats import uniform\n",
        "import pickle as pkl\n",
        "%matplotlib inline\n",
        "sns.set_style('whitegrid')\n",
        "# pd.reset_option(\"display.max_rows\")\n",
        "drive.mount('/content/drive/')\n",
        "os.chdir(\"/content/drive/My Drive/colab\")"
      ],
      "execution_count": 48,
      "outputs": [
        {
          "output_type": "stream",
          "name": "stdout",
          "text": [
            "Drive already mounted at /content/drive/; to attempt to forcibly remount, call drive.mount(\"/content/drive/\", force_remount=True).\n"
          ]
        }
      ]
    },
    {
      "cell_type": "code",
      "metadata": {
        "id": "kQ1uILQ-Cm1m",
        "colab": {
          "base_uri": "https://localhost:8080/",
          "height": 206
        },
        "outputId": "67bd394b-e2f8-4f10-b110-de7521f2f79e"
      },
      "source": [
        "dir = 'titanic'\n",
        "data = pd.read_csv(dir + '/train.csv')\n",
        "data.head(5)"
      ],
      "execution_count": 49,
      "outputs": [
        {
          "output_type": "execute_result",
          "data": {
            "text/html": [
              "<div>\n",
              "<style scoped>\n",
              "    .dataframe tbody tr th:only-of-type {\n",
              "        vertical-align: middle;\n",
              "    }\n",
              "\n",
              "    .dataframe tbody tr th {\n",
              "        vertical-align: top;\n",
              "    }\n",
              "\n",
              "    .dataframe thead th {\n",
              "        text-align: right;\n",
              "    }\n",
              "</style>\n",
              "<table border=\"1\" class=\"dataframe\">\n",
              "  <thead>\n",
              "    <tr style=\"text-align: right;\">\n",
              "      <th></th>\n",
              "      <th>PassengerId</th>\n",
              "      <th>Survived</th>\n",
              "      <th>Pclass</th>\n",
              "      <th>Name</th>\n",
              "      <th>Sex</th>\n",
              "      <th>Age</th>\n",
              "      <th>SibSp</th>\n",
              "      <th>Parch</th>\n",
              "      <th>Ticket</th>\n",
              "      <th>Fare</th>\n",
              "      <th>Cabin</th>\n",
              "      <th>Embarked</th>\n",
              "    </tr>\n",
              "  </thead>\n",
              "  <tbody>\n",
              "    <tr>\n",
              "      <th>0</th>\n",
              "      <td>1</td>\n",
              "      <td>0</td>\n",
              "      <td>3</td>\n",
              "      <td>Braund, Mr. Owen Harris</td>\n",
              "      <td>male</td>\n",
              "      <td>22.0</td>\n",
              "      <td>1</td>\n",
              "      <td>0</td>\n",
              "      <td>A/5 21171</td>\n",
              "      <td>7.2500</td>\n",
              "      <td>NaN</td>\n",
              "      <td>S</td>\n",
              "    </tr>\n",
              "    <tr>\n",
              "      <th>1</th>\n",
              "      <td>2</td>\n",
              "      <td>1</td>\n",
              "      <td>1</td>\n",
              "      <td>Cumings, Mrs. John Bradley (Florence Briggs Th...</td>\n",
              "      <td>female</td>\n",
              "      <td>38.0</td>\n",
              "      <td>1</td>\n",
              "      <td>0</td>\n",
              "      <td>PC 17599</td>\n",
              "      <td>71.2833</td>\n",
              "      <td>C85</td>\n",
              "      <td>C</td>\n",
              "    </tr>\n",
              "    <tr>\n",
              "      <th>2</th>\n",
              "      <td>3</td>\n",
              "      <td>1</td>\n",
              "      <td>3</td>\n",
              "      <td>Heikkinen, Miss. Laina</td>\n",
              "      <td>female</td>\n",
              "      <td>26.0</td>\n",
              "      <td>0</td>\n",
              "      <td>0</td>\n",
              "      <td>STON/O2. 3101282</td>\n",
              "      <td>7.9250</td>\n",
              "      <td>NaN</td>\n",
              "      <td>S</td>\n",
              "    </tr>\n",
              "    <tr>\n",
              "      <th>3</th>\n",
              "      <td>4</td>\n",
              "      <td>1</td>\n",
              "      <td>1</td>\n",
              "      <td>Futrelle, Mrs. Jacques Heath (Lily May Peel)</td>\n",
              "      <td>female</td>\n",
              "      <td>35.0</td>\n",
              "      <td>1</td>\n",
              "      <td>0</td>\n",
              "      <td>113803</td>\n",
              "      <td>53.1000</td>\n",
              "      <td>C123</td>\n",
              "      <td>S</td>\n",
              "    </tr>\n",
              "    <tr>\n",
              "      <th>4</th>\n",
              "      <td>5</td>\n",
              "      <td>0</td>\n",
              "      <td>3</td>\n",
              "      <td>Allen, Mr. William Henry</td>\n",
              "      <td>male</td>\n",
              "      <td>35.0</td>\n",
              "      <td>0</td>\n",
              "      <td>0</td>\n",
              "      <td>373450</td>\n",
              "      <td>8.0500</td>\n",
              "      <td>NaN</td>\n",
              "      <td>S</td>\n",
              "    </tr>\n",
              "  </tbody>\n",
              "</table>\n",
              "</div>"
            ],
            "text/plain": [
              "   PassengerId  Survived  Pclass  ...     Fare Cabin  Embarked\n",
              "0            1         0       3  ...   7.2500   NaN         S\n",
              "1            2         1       1  ...  71.2833   C85         C\n",
              "2            3         1       3  ...   7.9250   NaN         S\n",
              "3            4         1       1  ...  53.1000  C123         S\n",
              "4            5         0       3  ...   8.0500   NaN         S\n",
              "\n",
              "[5 rows x 12 columns]"
            ]
          },
          "metadata": {},
          "execution_count": 49
        }
      ]
    },
    {
      "cell_type": "code",
      "metadata": {
        "id": "MKapHmrgDZ69",
        "colab": {
          "base_uri": "https://localhost:8080/"
        },
        "outputId": "b32aece5-ea92-4943-c986-0a606e6a10bc"
      },
      "source": [
        "data.info()"
      ],
      "execution_count": 50,
      "outputs": [
        {
          "output_type": "stream",
          "name": "stdout",
          "text": [
            "<class 'pandas.core.frame.DataFrame'>\n",
            "RangeIndex: 891 entries, 0 to 890\n",
            "Data columns (total 12 columns):\n",
            " #   Column       Non-Null Count  Dtype  \n",
            "---  ------       --------------  -----  \n",
            " 0   PassengerId  891 non-null    int64  \n",
            " 1   Survived     891 non-null    int64  \n",
            " 2   Pclass       891 non-null    int64  \n",
            " 3   Name         891 non-null    object \n",
            " 4   Sex          891 non-null    object \n",
            " 5   Age          714 non-null    float64\n",
            " 6   SibSp        891 non-null    int64  \n",
            " 7   Parch        891 non-null    int64  \n",
            " 8   Ticket       891 non-null    object \n",
            " 9   Fare         891 non-null    float64\n",
            " 10  Cabin        204 non-null    object \n",
            " 11  Embarked     889 non-null    object \n",
            "dtypes: float64(2), int64(5), object(5)\n",
            "memory usage: 83.7+ KB\n"
          ]
        }
      ]
    },
    {
      "cell_type": "markdown",
      "metadata": {
        "id": "Uw-vVkLGiK6T"
      },
      "source": [
        "<h3> Checking for duplicate rows</h3>"
      ]
    },
    {
      "cell_type": "code",
      "metadata": {
        "id": "kbQjatSnGJ_s",
        "colab": {
          "base_uri": "https://localhost:8080/"
        },
        "outputId": "a3e20a67-534a-46c7-a190-d0036ac8e2d4"
      },
      "source": [
        "print(f'''No of Duplicate rows: {len(data) - data[data.duplicated(['Name'])==False].shape[0]}''')"
      ],
      "execution_count": 51,
      "outputs": [
        {
          "output_type": "stream",
          "name": "stdout",
          "text": [
            "No of Duplicate rows: 0\n"
          ]
        }
      ]
    },
    {
      "cell_type": "markdown",
      "metadata": {
        "id": "6mhNXRR9ieOG"
      },
      "source": [
        "<h3> Checking for missing values</h3>"
      ]
    },
    {
      "cell_type": "code",
      "metadata": {
        "id": "5PxK-s4iFt6o",
        "colab": {
          "base_uri": "https://localhost:8080/",
          "height": 457
        },
        "outputId": "3a762f05-3b7f-41be-b8c0-b11ee4981a04"
      },
      "source": [
        "pd.DataFrame(100*data.isnull().sum()/data.shape[0], columns=['Missing (in %)'])\n"
      ],
      "execution_count": 97,
      "outputs": [
        {
          "output_type": "execute_result",
          "data": {
            "text/html": [
              "<div>\n",
              "<style scoped>\n",
              "    .dataframe tbody tr th:only-of-type {\n",
              "        vertical-align: middle;\n",
              "    }\n",
              "\n",
              "    .dataframe tbody tr th {\n",
              "        vertical-align: top;\n",
              "    }\n",
              "\n",
              "    .dataframe thead th {\n",
              "        text-align: right;\n",
              "    }\n",
              "</style>\n",
              "<table border=\"1\" class=\"dataframe\">\n",
              "  <thead>\n",
              "    <tr style=\"text-align: right;\">\n",
              "      <th></th>\n",
              "      <th>Missing (in %)</th>\n",
              "    </tr>\n",
              "  </thead>\n",
              "  <tbody>\n",
              "    <tr>\n",
              "      <th>PassengerId</th>\n",
              "      <td>0.000000</td>\n",
              "    </tr>\n",
              "    <tr>\n",
              "      <th>Survived</th>\n",
              "      <td>0.000000</td>\n",
              "    </tr>\n",
              "    <tr>\n",
              "      <th>Pclass</th>\n",
              "      <td>0.000000</td>\n",
              "    </tr>\n",
              "    <tr>\n",
              "      <th>Name</th>\n",
              "      <td>0.000000</td>\n",
              "    </tr>\n",
              "    <tr>\n",
              "      <th>Sex</th>\n",
              "      <td>0.000000</td>\n",
              "    </tr>\n",
              "    <tr>\n",
              "      <th>Age</th>\n",
              "      <td>19.865320</td>\n",
              "    </tr>\n",
              "    <tr>\n",
              "      <th>SibSp</th>\n",
              "      <td>0.000000</td>\n",
              "    </tr>\n",
              "    <tr>\n",
              "      <th>Parch</th>\n",
              "      <td>0.000000</td>\n",
              "    </tr>\n",
              "    <tr>\n",
              "      <th>Ticket</th>\n",
              "      <td>0.000000</td>\n",
              "    </tr>\n",
              "    <tr>\n",
              "      <th>Fare</th>\n",
              "      <td>0.000000</td>\n",
              "    </tr>\n",
              "    <tr>\n",
              "      <th>Cabin</th>\n",
              "      <td>77.104377</td>\n",
              "    </tr>\n",
              "    <tr>\n",
              "      <th>Embarked</th>\n",
              "      <td>0.224467</td>\n",
              "    </tr>\n",
              "    <tr>\n",
              "      <th>Cabin_ref</th>\n",
              "      <td>0.000000</td>\n",
              "    </tr>\n",
              "  </tbody>\n",
              "</table>\n",
              "</div>"
            ],
            "text/plain": [
              "             Missing (in %)\n",
              "PassengerId        0.000000\n",
              "Survived           0.000000\n",
              "Pclass             0.000000\n",
              "Name               0.000000\n",
              "Sex                0.000000\n",
              "Age               19.865320\n",
              "SibSp              0.000000\n",
              "Parch              0.000000\n",
              "Ticket             0.000000\n",
              "Fare               0.000000\n",
              "Cabin             77.104377\n",
              "Embarked           0.224467\n",
              "Cabin_ref          0.000000"
            ]
          },
          "metadata": {},
          "execution_count": 97
        }
      ]
    },
    {
      "cell_type": "markdown",
      "metadata": {
        "id": "5tokDR6uIWpL"
      },
      "source": [
        "<h3> There exists 3 columns with missing values : Age, Cabin and Embarked</h3>"
      ]
    },
    {
      "cell_type": "code",
      "metadata": {
        "id": "QLFJTZyxKJUC",
        "colab": {
          "base_uri": "https://localhost:8080/",
          "height": 360
        },
        "outputId": "2414b044-62ce-40c1-a00b-22f326ab13f9"
      },
      "source": [
        "data['Cabin_ref'] = data['Cabin'].isnull()\n",
        "plt.figure(figsize=(15, 5))\n",
        "plt.subplot(1, 2, 1)\n",
        "sns.countplot(x= data[data['Cabin_ref']]['Survived'])\n",
        "plt.ylim(0, 500)\n",
        "plt.ylabel('Cabin Mising', fontsize = 15)\n",
        "plt.xlabel('Survived', fontsize = 15)\n",
        "plt.subplot(1,2,2)\n",
        "sns.countplot(x= data[data['Cabin_ref']==False]['Survived'])\n",
        "plt.ylim(0, 500)\n",
        "plt.ylabel('Cabin Available', fontsize = 15)\n",
        "plt.xlabel('Survived', fontsize = 15)"
      ],
      "execution_count": 53,
      "outputs": [
        {
          "output_type": "execute_result",
          "data": {
            "text/plain": [
              "Text(0.5, 0, 'Survived')"
            ]
          },
          "metadata": {},
          "execution_count": 53
        },
        {
          "output_type": "display_data",
          "data": {
            "image/png": "[encoded data removed]",
            "text/plain": [
              "<Figure size 1080x360 with 2 Axes>"
            ]
          },
          "metadata": {}
        }
      ]
    },
    {
      "cell_type": "markdown",
      "metadata": {
        "id": "b0k-P3laNLM6"
      },
      "source": [
        "<h2>Cabin information missing indicates less chance of survival</h2>"
      ]
    },
    {
      "cell_type": "code",
      "metadata": {
        "id": "h0X5syIZK_v8",
        "colab": {
          "base_uri": "https://localhost:8080/"
        },
        "outputId": "5f8ff195-d162-40a2-c22f-207eb42bceff"
      },
      "source": [
        "data['Age'].describe()"
      ],
      "execution_count": 54,
      "outputs": [
        {
          "output_type": "execute_result",
          "data": {
            "text/plain": [
              "count    714.000000\n",
              "mean      29.699118\n",
              "std       14.526497\n",
              "min        0.420000\n",
              "25%       20.125000\n",
              "50%       28.000000\n",
              "75%       38.000000\n",
              "max       80.000000\n",
              "Name: Age, dtype: float64"
            ]
          },
          "metadata": {},
          "execution_count": 54
        }
      ]
    },
    {
      "cell_type": "code",
      "metadata": {
        "id": "eQZaiB5oNrPx",
        "colab": {
          "base_uri": "https://localhost:8080/",
          "height": 356
        },
        "outputId": "1040a125-bf65-4700-fc2f-dd62bd09f410"
      },
      "source": [
        "plt.figure(figsize=(10, 5))\n",
        "sns.histplot(data['Age'])\n",
        "plt.xlabel('Age', fontsize = 15)"
      ],
      "execution_count": 55,
      "outputs": [
        {
          "output_type": "execute_result",
          "data": {
            "text/plain": [
              "Text(0.5, 0, 'Age')"
            ]
          },
          "metadata": {},
          "execution_count": 55
        },
        {
          "output_type": "display_data",
          "data": {
            "image/png": "[encoded data removed]",
            "text/plain": [
              "<Figure size 720x360 with 1 Axes>"
            ]
          },
          "metadata": {}
        }
      ]
    },
    {
      "cell_type": "code",
      "metadata": {
        "id": "8gSg1Bl9adMc",
        "colab": {
          "base_uri": "https://localhost:8080/",
          "height": 356
        },
        "outputId": "9eca2979-24dc-479d-eaf3-16b7c6c8eff4"
      },
      "source": [
        "plt.figure(figsize=(10, 5))\n",
        "sns.boxplot(x = data.dropna()['Survived'], y = data.dropna()['Age'], orient = 'v')\n",
        "plt.ylabel('Age', fontsize = 15)\n",
        "plt.xlabel('Survived', fontsize = 15)"
      ],
      "execution_count": 56,
      "outputs": [
        {
          "output_type": "execute_result",
          "data": {
            "text/plain": [
              "Text(0.5, 0, 'Survived')"
            ]
          },
          "metadata": {},
          "execution_count": 56
        },
        {
          "output_type": "display_data",
          "data": {
            "image/png": "[encoded data removed]",
            "text/plain": [
              "<Figure size 720x360 with 1 Axes>"
            ]
          },
          "metadata": {}
        }
      ]
    },
    {
      "cell_type": "code",
      "metadata": {
        "id": "4ZMcu9iggbbD",
        "colab": {
          "base_uri": "https://localhost:8080/"
        },
        "outputId": "1c2a9808-307c-4c45-fff6-3bab07a23b6d"
      },
      "source": [
        "len(data['Ticket'].unique())"
      ],
      "execution_count": 57,
      "outputs": [
        {
          "output_type": "execute_result",
          "data": {
            "text/plain": [
              "681"
            ]
          },
          "metadata": {},
          "execution_count": 57
        }
      ]
    },
    {
      "cell_type": "markdown",
      "metadata": {
        "id": "SlU20Up2mihG"
      },
      "source": [
        "<h3>This feature can be dropped</h3>"
      ]
    },
    {
      "cell_type": "code",
      "metadata": {
        "id": "MFzY5yRjcb_a",
        "colab": {
          "base_uri": "https://localhost:8080/"
        },
        "outputId": "db879bb9-92e0-49ec-b593-4cb5a1e08ca5"
      },
      "source": [
        "df = data.copy()\n",
        "df.drop(['PassengerId', 'Name', 'Cabin', 'Cabin_ref', 'Ticket'], axis = 1, inplace = True)\n",
        "df['Cabin_Misssing'] = [1 if x is True else 0 for x in data['Cabin_ref']]\n",
        "df.dropna(inplace=True)\n",
        "df.shape"
      ],
      "execution_count": 58,
      "outputs": [
        {
          "output_type": "execute_result",
          "data": {
            "text/plain": [
              "(712, 9)"
            ]
          },
          "metadata": {},
          "execution_count": 58
        }
      ]
    },
    {
      "cell_type": "code",
      "metadata": {
        "id": "kIw-7696djpy",
        "colab": {
          "base_uri": "https://localhost:8080/",
          "height": 332
        },
        "outputId": "554bf419-59eb-4db1-a813-d476fed30119"
      },
      "source": [
        "pd.DataFrame(100*df.isnull().sum()/df.shape[0], columns=['Missing (in %)'])"
      ],
      "execution_count": 59,
      "outputs": [
        {
          "output_type": "execute_result",
          "data": {
            "text/html": [
              "<div>\n",
              "<style scoped>\n",
              "    .dataframe tbody tr th:only-of-type {\n",
              "        vertical-align: middle;\n",
              "    }\n",
              "\n",
              "    .dataframe tbody tr th {\n",
              "        vertical-align: top;\n",
              "    }\n",
              "\n",
              "    .dataframe thead th {\n",
              "        text-align: right;\n",
              "    }\n",
              "</style>\n",
              "<table border=\"1\" class=\"dataframe\">\n",
              "  <thead>\n",
              "    <tr style=\"text-align: right;\">\n",
              "      <th></th>\n",
              "      <th>Missing (in %)</th>\n",
              "    </tr>\n",
              "  </thead>\n",
              "  <tbody>\n",
              "    <tr>\n",
              "      <th>Survived</th>\n",
              "      <td>0.0</td>\n",
              "    </tr>\n",
              "    <tr>\n",
              "      <th>Pclass</th>\n",
              "      <td>0.0</td>\n",
              "    </tr>\n",
              "    <tr>\n",
              "      <th>Sex</th>\n",
              "      <td>0.0</td>\n",
              "    </tr>\n",
              "    <tr>\n",
              "      <th>Age</th>\n",
              "      <td>0.0</td>\n",
              "    </tr>\n",
              "    <tr>\n",
              "      <th>SibSp</th>\n",
              "      <td>0.0</td>\n",
              "    </tr>\n",
              "    <tr>\n",
              "      <th>Parch</th>\n",
              "      <td>0.0</td>\n",
              "    </tr>\n",
              "    <tr>\n",
              "      <th>Fare</th>\n",
              "      <td>0.0</td>\n",
              "    </tr>\n",
              "    <tr>\n",
              "      <th>Embarked</th>\n",
              "      <td>0.0</td>\n",
              "    </tr>\n",
              "    <tr>\n",
              "      <th>Cabin_Misssing</th>\n",
              "      <td>0.0</td>\n",
              "    </tr>\n",
              "  </tbody>\n",
              "</table>\n",
              "</div>"
            ],
            "text/plain": [
              "                Missing (in %)\n",
              "Survived                   0.0\n",
              "Pclass                     0.0\n",
              "Sex                        0.0\n",
              "Age                        0.0\n",
              "SibSp                      0.0\n",
              "Parch                      0.0\n",
              "Fare                       0.0\n",
              "Embarked                   0.0\n",
              "Cabin_Misssing             0.0"
            ]
          },
          "metadata": {},
          "execution_count": 59
        }
      ]
    },
    {
      "cell_type": "code",
      "metadata": {
        "id": "ztm5TvVBdyvq",
        "colab": {
          "base_uri": "https://localhost:8080/",
          "height": 206
        },
        "outputId": "d2fd06ce-4762-4b59-f875-69e40c1be315"
      },
      "source": [
        "df.head(5)"
      ],
      "execution_count": 60,
      "outputs": [
        {
          "output_type": "execute_result",
          "data": {
            "text/html": [
              "<div>\n",
              "<style scoped>\n",
              "    .dataframe tbody tr th:only-of-type {\n",
              "        vertical-align: middle;\n",
              "    }\n",
              "\n",
              "    .dataframe tbody tr th {\n",
              "        vertical-align: top;\n",
              "    }\n",
              "\n",
              "    .dataframe thead th {\n",
              "        text-align: right;\n",
              "    }\n",
              "</style>\n",
              "<table border=\"1\" class=\"dataframe\">\n",
              "  <thead>\n",
              "    <tr style=\"text-align: right;\">\n",
              "      <th></th>\n",
              "      <th>Survived</th>\n",
              "      <th>Pclass</th>\n",
              "      <th>Sex</th>\n",
              "      <th>Age</th>\n",
              "      <th>SibSp</th>\n",
              "      <th>Parch</th>\n",
              "      <th>Fare</th>\n",
              "      <th>Embarked</th>\n",
              "      <th>Cabin_Misssing</th>\n",
              "    </tr>\n",
              "  </thead>\n",
              "  <tbody>\n",
              "    <tr>\n",
              "      <th>0</th>\n",
              "      <td>0</td>\n",
              "      <td>3</td>\n",
              "      <td>male</td>\n",
              "      <td>22.0</td>\n",
              "      <td>1</td>\n",
              "      <td>0</td>\n",
              "      <td>7.2500</td>\n",
              "      <td>S</td>\n",
              "      <td>1</td>\n",
              "    </tr>\n",
              "    <tr>\n",
              "      <th>1</th>\n",
              "      <td>1</td>\n",
              "      <td>1</td>\n",
              "      <td>female</td>\n",
              "      <td>38.0</td>\n",
              "      <td>1</td>\n",
              "      <td>0</td>\n",
              "      <td>71.2833</td>\n",
              "      <td>C</td>\n",
              "      <td>0</td>\n",
              "    </tr>\n",
              "    <tr>\n",
              "      <th>2</th>\n",
              "      <td>1</td>\n",
              "      <td>3</td>\n",
              "      <td>female</td>\n",
              "      <td>26.0</td>\n",
              "      <td>0</td>\n",
              "      <td>0</td>\n",
              "      <td>7.9250</td>\n",
              "      <td>S</td>\n",
              "      <td>1</td>\n",
              "    </tr>\n",
              "    <tr>\n",
              "      <th>3</th>\n",
              "      <td>1</td>\n",
              "      <td>1</td>\n",
              "      <td>female</td>\n",
              "      <td>35.0</td>\n",
              "      <td>1</td>\n",
              "      <td>0</td>\n",
              "      <td>53.1000</td>\n",
              "      <td>S</td>\n",
              "      <td>0</td>\n",
              "    </tr>\n",
              "    <tr>\n",
              "      <th>4</th>\n",
              "      <td>0</td>\n",
              "      <td>3</td>\n",
              "      <td>male</td>\n",
              "      <td>35.0</td>\n",
              "      <td>0</td>\n",
              "      <td>0</td>\n",
              "      <td>8.0500</td>\n",
              "      <td>S</td>\n",
              "      <td>1</td>\n",
              "    </tr>\n",
              "  </tbody>\n",
              "</table>\n",
              "</div>"
            ],
            "text/plain": [
              "   Survived  Pclass     Sex   Age  ...  Parch     Fare  Embarked Cabin_Misssing\n",
              "0         0       3    male  22.0  ...      0   7.2500         S              1\n",
              "1         1       1  female  38.0  ...      0  71.2833         C              0\n",
              "2         1       3  female  26.0  ...      0   7.9250         S              1\n",
              "3         1       1  female  35.0  ...      0  53.1000         S              0\n",
              "4         0       3    male  35.0  ...      0   8.0500         S              1\n",
              "\n",
              "[5 rows x 9 columns]"
            ]
          },
          "metadata": {},
          "execution_count": 60
        }
      ]
    },
    {
      "cell_type": "code",
      "metadata": {
        "id": "YCcaYZVLessW",
        "colab": {
          "base_uri": "https://localhost:8080/",
          "height": 356
        },
        "outputId": "f3b52050-b9a6-465a-b45f-102dd3556d4a"
      },
      "source": [
        "plt.figure(figsize=(5, 5))\n",
        "sns.countplot(df['Survived'])\n",
        "plt.ylabel('Frequency', fontsize = 15)\n",
        "plt.xlabel('Survived', fontsize = 15)"
      ],
      "execution_count": 61,
      "outputs": [
        {
          "output_type": "execute_result",
          "data": {
            "text/plain": [
              "Text(0.5, 0, 'Survived')"
            ]
          },
          "metadata": {},
          "execution_count": 61
        },
        {
          "output_type": "display_data",
          "data": {
            "image/png": "[encoded data removed]",
            "text/plain": [
              "<Figure size 360x360 with 1 Axes>"
            ]
          },
          "metadata": {}
        }
      ]
    },
    {
      "cell_type": "markdown",
      "metadata": {
        "id": "Z9uJdB8ae7MQ"
      },
      "source": [
        "<h3> Almost balanced dataset. Hence accuracy is a good metric for evaluation</h3>"
      ]
    },
    {
      "cell_type": "code",
      "metadata": {
        "id": "6PVdN-SmeDiT",
        "colab": {
          "base_uri": "https://localhost:8080/",
          "height": 356
        },
        "outputId": "886b2de4-bd91-4cf0-d93a-891f33697ee8"
      },
      "source": [
        "plt.figure(figsize=(10, 5))\n",
        "sns.countplot(df['SibSp'])\n",
        "plt.ylabel('Frequency', fontsize = 15)\n",
        "plt.xlabel('SibSp', fontsize = 15)"
      ],
      "execution_count": 62,
      "outputs": [
        {
          "output_type": "execute_result",
          "data": {
            "text/plain": [
              "Text(0.5, 0, 'SibSp')"
            ]
          },
          "metadata": {},
          "execution_count": 62
        },
        {
          "output_type": "display_data",
          "data": {
            "image/png": "[encoded data removed]",
            "text/plain": [
              "<Figure size 720x360 with 1 Axes>"
            ]
          },
          "metadata": {}
        }
      ]
    },
    {
      "cell_type": "code",
      "metadata": {
        "id": "UoICTwB7eRES",
        "colab": {
          "base_uri": "https://localhost:8080/",
          "height": 356
        },
        "outputId": "315d5081-463a-4828-d154-c6f87e7f59b7"
      },
      "source": [
        "plt.figure(figsize=(10, 5))\n",
        "sns.countplot(df['Parch'])\n",
        "plt.xlabel('Parch', fontsize = 15)\n",
        "plt.ylabel('Frequency', fontsize = 15)"
      ],
      "execution_count": 63,
      "outputs": [
        {
          "output_type": "execute_result",
          "data": {
            "text/plain": [
              "Text(0, 0.5, 'Frequency')"
            ]
          },
          "metadata": {},
          "execution_count": 63
        },
        {
          "output_type": "display_data",
          "data": {
            "image/png": "[encoded data removed]",
            "text/plain": [
              "<Figure size 720x360 with 1 Axes>"
            ]
          },
          "metadata": {}
        }
      ]
    },
    {
      "cell_type": "code",
      "metadata": {
        "id": "hOU61BcJgg1U",
        "colab": {
          "base_uri": "https://localhost:8080/",
          "height": 206
        },
        "outputId": "04eec80c-0395-412b-b752-b2b944f864ea"
      },
      "source": [
        "df['Sex'] = [1 if x == 'male' else 0 for x in df['Sex']]\n",
        "df.head(5)"
      ],
      "execution_count": 64,
      "outputs": [
        {
          "output_type": "execute_result",
          "data": {
            "text/html": [
              "<div>\n",
              "<style scoped>\n",
              "    .dataframe tbody tr th:only-of-type {\n",
              "        vertical-align: middle;\n",
              "    }\n",
              "\n",
              "    .dataframe tbody tr th {\n",
              "        vertical-align: top;\n",
              "    }\n",
              "\n",
              "    .dataframe thead th {\n",
              "        text-align: right;\n",
              "    }\n",
              "</style>\n",
              "<table border=\"1\" class=\"dataframe\">\n",
              "  <thead>\n",
              "    <tr style=\"text-align: right;\">\n",
              "      <th></th>\n",
              "      <th>Survived</th>\n",
              "      <th>Pclass</th>\n",
              "      <th>Sex</th>\n",
              "      <th>Age</th>\n",
              "      <th>SibSp</th>\n",
              "      <th>Parch</th>\n",
              "      <th>Fare</th>\n",
              "      <th>Embarked</th>\n",
              "      <th>Cabin_Misssing</th>\n",
              "    </tr>\n",
              "  </thead>\n",
              "  <tbody>\n",
              "    <tr>\n",
              "      <th>0</th>\n",
              "      <td>0</td>\n",
              "      <td>3</td>\n",
              "      <td>1</td>\n",
              "      <td>22.0</td>\n",
              "      <td>1</td>\n",
              "      <td>0</td>\n",
              "      <td>7.2500</td>\n",
              "      <td>S</td>\n",
              "      <td>1</td>\n",
              "    </tr>\n",
              "    <tr>\n",
              "      <th>1</th>\n",
              "      <td>1</td>\n",
              "      <td>1</td>\n",
              "      <td>0</td>\n",
              "      <td>38.0</td>\n",
              "      <td>1</td>\n",
              "      <td>0</td>\n",
              "      <td>71.2833</td>\n",
              "      <td>C</td>\n",
              "      <td>0</td>\n",
              "    </tr>\n",
              "    <tr>\n",
              "      <th>2</th>\n",
              "      <td>1</td>\n",
              "      <td>3</td>\n",
              "      <td>0</td>\n",
              "      <td>26.0</td>\n",
              "      <td>0</td>\n",
              "      <td>0</td>\n",
              "      <td>7.9250</td>\n",
              "      <td>S</td>\n",
              "      <td>1</td>\n",
              "    </tr>\n",
              "    <tr>\n",
              "      <th>3</th>\n",
              "      <td>1</td>\n",
              "      <td>1</td>\n",
              "      <td>0</td>\n",
              "      <td>35.0</td>\n",
              "      <td>1</td>\n",
              "      <td>0</td>\n",
              "      <td>53.1000</td>\n",
              "      <td>S</td>\n",
              "      <td>0</td>\n",
              "    </tr>\n",
              "    <tr>\n",
              "      <th>4</th>\n",
              "      <td>0</td>\n",
              "      <td>3</td>\n",
              "      <td>1</td>\n",
              "      <td>35.0</td>\n",
              "      <td>0</td>\n",
              "      <td>0</td>\n",
              "      <td>8.0500</td>\n",
              "      <td>S</td>\n",
              "      <td>1</td>\n",
              "    </tr>\n",
              "  </tbody>\n",
              "</table>\n",
              "</div>"
            ],
            "text/plain": [
              "   Survived  Pclass  Sex   Age  SibSp  Parch     Fare Embarked  Cabin_Misssing\n",
              "0         0       3    1  22.0      1      0   7.2500        S               1\n",
              "1         1       1    0  38.0      1      0  71.2833        C               0\n",
              "2         1       3    0  26.0      0      0   7.9250        S               1\n",
              "3         1       1    0  35.0      1      0  53.1000        S               0\n",
              "4         0       3    1  35.0      0      0   8.0500        S               1"
            ]
          },
          "metadata": {},
          "execution_count": 64
        }
      ]
    },
    {
      "cell_type": "code",
      "metadata": {
        "id": "xEcyRmCUTdKu",
        "colab": {
          "base_uri": "https://localhost:8080/",
          "height": 356
        },
        "outputId": "c48d3ec7-2b11-4ccb-c70c-e5cbf0ce2456"
      },
      "source": [
        "plt.figure(figsize=(15, 5))\n",
        "sns.violinplot(y = df['Survived'], x = df['Fare'], orient = 'h')\n",
        "plt.xlabel('Fare', fontsize = 15)\n",
        "plt.ylabel('Survived', fontsize = 15)"
      ],
      "execution_count": 65,
      "outputs": [
        {
          "output_type": "execute_result",
          "data": {
            "text/plain": [
              "Text(0, 0.5, 'Survived')"
            ]
          },
          "metadata": {},
          "execution_count": 65
        },
        {
          "output_type": "display_data",
          "data": {
            "image/png": "[encoded data removed]",
            "text/plain": [
              "<Figure size 1080x360 with 1 Axes>"
            ]
          },
          "metadata": {}
        }
      ]
    },
    {
      "cell_type": "markdown",
      "metadata": {
        "id": "kUAA47Wbyzde"
      },
      "source": [
        "<h4> Those who paid high amount for fare had higher chance of survival</h4>"
      ]
    },
    {
      "cell_type": "code",
      "metadata": {
        "id": "39fj1bxPUwHn",
        "colab": {
          "base_uri": "https://localhost:8080/",
          "height": 468
        },
        "outputId": "8c57ff77-c11c-43cc-c800-ae307268ae2d"
      },
      "source": [
        "plt.figure(figsize=(15, 7))\n",
        "plt.subplot(1, 3, 1)\n",
        "sns.countplot(x= df[df['Embarked']=='S']['Survived'])\n",
        "plt.ylim(0, 400)\n",
        "plt.ylabel('Embarked = S', fontsize = 15)\n",
        "plt.xlabel('Survived', fontsize = 15)\n",
        "plt.subplot(1,3,2)\n",
        "sns.countplot(x= df[df['Embarked']=='C']['Survived'])\n",
        "plt.ylim(0, 400)\n",
        "plt.ylabel('Embarked = C', fontsize = 15)\n",
        "plt.xlabel('Survived', fontsize = 15)\n",
        "plt.subplot(1,3,3)\n",
        "sns.countplot(x= df[df['Embarked']=='Q']['Survived'])\n",
        "plt.ylim(0, 400)\n",
        "plt.ylabel('Embarked = Q', fontsize = 15)\n",
        "plt.xlabel('Survived', fontsize = 15)"
      ],
      "execution_count": 66,
      "outputs": [
        {
          "output_type": "execute_result",
          "data": {
            "text/plain": [
              "Text(0.5, 0, 'Survived')"
            ]
          },
          "metadata": {},
          "execution_count": 66
        },
        {
          "output_type": "display_data",
          "data": {
            "image/png": "[encoded data removed]",
            "text/plain": [
              "<Figure size 1080x504 with 3 Axes>"
            ]
          },
          "metadata": {}
        }
      ]
    },
    {
      "cell_type": "code",
      "metadata": {
        "id": "JUDphcbUdWvI",
        "colab": {
          "base_uri": "https://localhost:8080/",
          "height": 360
        },
        "outputId": "c5cb9818-fe4d-418b-dc14-5970892b9f78"
      },
      "source": [
        "plt.figure(figsize=(15, 5))\n",
        "plt.subplot(1, 3, 1)\n",
        "sns.countplot(x= df[df['Pclass']==1]['Survived'])\n",
        "plt.ylim(0, 350)\n",
        "plt.ylabel('Pclass = 1', fontsize = 15)\n",
        "plt.xlabel('Survived', fontsize = 15)\n",
        "plt.subplot(1,3,2)\n",
        "sns.countplot(x= df[df['Pclass']==2]['Survived'])\n",
        "plt.ylim(0, 350)\n",
        "plt.ylabel('Pclass = 2', fontsize = 15)\n",
        "plt.xlabel('Survived', fontsize = 15)\n",
        "plt.subplot(1,3,3)\n",
        "sns.countplot(x= df[df['Pclass']==3]['Survived'])\n",
        "plt.ylim(0, 350)\n",
        "plt.ylabel('Pclass = 3', fontsize = 15)\n",
        "plt.xlabel('Survived', fontsize = 15)"
      ],
      "execution_count": 67,
      "outputs": [
        {
          "output_type": "execute_result",
          "data": {
            "text/plain": [
              "Text(0.5, 0, 'Survived')"
            ]
          },
          "metadata": {},
          "execution_count": 67
        },
        {
          "output_type": "display_data",
          "data": {
            "image/png": "[encoded data removed]",
            "text/plain": [
              "<Figure size 1080x360 with 3 Axes>"
            ]
          },
          "metadata": {}
        }
      ]
    },
    {
      "cell_type": "markdown",
      "metadata": {
        "id": "pws1FkiXd_uq"
      },
      "source": [
        "<h3> Passenger with Pclass = 3  has less than the half the chance of survival. Passenger with Pclass = 1 has higher chance of survival.</h3>"
      ]
    },
    {
      "cell_type": "code",
      "metadata": {
        "id": "suTkpVT1XViW",
        "colab": {
          "base_uri": "https://localhost:8080/",
          "height": 377
        },
        "outputId": "b0d282a6-4173-4fc7-c7ed-87b7e2c58d9c"
      },
      "source": [
        "plt.figure(figsize=(10, 5))\n",
        "plt.scatter(x = df['Age'], y = df['Fare'], alpha = 0.5,  marker = 'o', c = df['Survived'], cmap = 'viridis',)\n",
        "plt.xlabel('Age', fontsize = 15)\n",
        "plt.ylabel('Fare', fontsize = 15)\n",
        "plt.title('Fare and Age', fontsize = 20)"
      ],
      "execution_count": 68,
      "outputs": [
        {
          "output_type": "execute_result",
          "data": {
            "text/plain": [
              "Text(0.5, 1.0, 'Fare and Age')"
            ]
          },
          "metadata": {},
          "execution_count": 68
        },
        {
          "output_type": "display_data",
          "data": {
            "image/png": "[encoded data removed]",
            "text/plain": [
              "<Figure size 720x360 with 1 Axes>"
            ]
          },
          "metadata": {}
        }
      ]
    },
    {
      "cell_type": "markdown",
      "metadata": {
        "id": "UYTawo64bkiC"
      },
      "source": [
        "<h3>Positive Points are slightly higher in number at high Fare and low Age  region</h3>"
      ]
    },
    {
      "cell_type": "code",
      "metadata": {
        "id": "L4s67XHFfqSP",
        "colab": {
          "base_uri": "https://localhost:8080/",
          "height": 414
        },
        "outputId": "5f87345a-53ac-47aa-bb4f-4d623369f093"
      },
      "source": [
        "plt.figure(figsize=(15, 6))\n",
        "plt.subplot(1, 3, 1)\n",
        "sns.countplot(x= df[df['Sex']==1]['Survived'])\n",
        "plt.ylim(0, 400)\n",
        "plt.ylabel('Male', fontsize = 15)\n",
        "plt.xlabel('Survived', fontsize = 15)\n",
        "plt.subplot(1,3,2)\n",
        "sns.countplot(x= df[df['Sex']==0]['Survived'])\n",
        "plt.ylim(0, 400)\n",
        "plt.ylabel('Female', fontsize = 15)\n",
        "plt.xlabel('Survived', fontsize = 15)"
      ],
      "execution_count": 69,
      "outputs": [
        {
          "output_type": "execute_result",
          "data": {
            "text/plain": [
              "Text(0.5, 0, 'Survived')"
            ]
          },
          "metadata": {},
          "execution_count": 69
        },
        {
          "output_type": "display_data",
          "data": {
            "image/png": "[encoded data removed]",
            "text/plain": [
              "<Figure size 1080x432 with 2 Axes>"
            ]
          },
          "metadata": {}
        }
      ]
    },
    {
      "cell_type": "markdown",
      "metadata": {
        "id": "ET8EEUGphbMu"
      },
      "source": [
        "<h3> Male has very low chance of survival compared to Females</h3>"
      ]
    },
    {
      "cell_type": "code",
      "metadata": {
        "id": "UuGlwVAkhagQ",
        "colab": {
          "base_uri": "https://localhost:8080/",
          "height": 363
        },
        "outputId": "39e38443-c6ae-4410-b59a-356e15664f28"
      },
      "source": [
        "df.head(10)"
      ],
      "execution_count": 70,
      "outputs": [
        {
          "output_type": "execute_result",
          "data": {
            "text/html": [
              "<div>\n",
              "<style scoped>\n",
              "    .dataframe tbody tr th:only-of-type {\n",
              "        vertical-align: middle;\n",
              "    }\n",
              "\n",
              "    .dataframe tbody tr th {\n",
              "        vertical-align: top;\n",
              "    }\n",
              "\n",
              "    .dataframe thead th {\n",
              "        text-align: right;\n",
              "    }\n",
              "</style>\n",
              "<table border=\"1\" class=\"dataframe\">\n",
              "  <thead>\n",
              "    <tr style=\"text-align: right;\">\n",
              "      <th></th>\n",
              "      <th>Survived</th>\n",
              "      <th>Pclass</th>\n",
              "      <th>Sex</th>\n",
              "      <th>Age</th>\n",
              "      <th>SibSp</th>\n",
              "      <th>Parch</th>\n",
              "      <th>Fare</th>\n",
              "      <th>Embarked</th>\n",
              "      <th>Cabin_Misssing</th>\n",
              "    </tr>\n",
              "  </thead>\n",
              "  <tbody>\n",
              "    <tr>\n",
              "      <th>0</th>\n",
              "      <td>0</td>\n",
              "      <td>3</td>\n",
              "      <td>1</td>\n",
              "      <td>22.0</td>\n",
              "      <td>1</td>\n",
              "      <td>0</td>\n",
              "      <td>7.2500</td>\n",
              "      <td>S</td>\n",
              "      <td>1</td>\n",
              "    </tr>\n",
              "    <tr>\n",
              "      <th>1</th>\n",
              "      <td>1</td>\n",
              "      <td>1</td>\n",
              "      <td>0</td>\n",
              "      <td>38.0</td>\n",
              "      <td>1</td>\n",
              "      <td>0</td>\n",
              "      <td>71.2833</td>\n",
              "      <td>C</td>\n",
              "      <td>0</td>\n",
              "    </tr>\n",
              "    <tr>\n",
              "      <th>2</th>\n",
              "      <td>1</td>\n",
              "      <td>3</td>\n",
              "      <td>0</td>\n",
              "      <td>26.0</td>\n",
              "      <td>0</td>\n",
              "      <td>0</td>\n",
              "      <td>7.9250</td>\n",
              "      <td>S</td>\n",
              "      <td>1</td>\n",
              "    </tr>\n",
              "    <tr>\n",
              "      <th>3</th>\n",
              "      <td>1</td>\n",
              "      <td>1</td>\n",
              "      <td>0</td>\n",
              "      <td>35.0</td>\n",
              "      <td>1</td>\n",
              "      <td>0</td>\n",
              "      <td>53.1000</td>\n",
              "      <td>S</td>\n",
              "      <td>0</td>\n",
              "    </tr>\n",
              "    <tr>\n",
              "      <th>4</th>\n",
              "      <td>0</td>\n",
              "      <td>3</td>\n",
              "      <td>1</td>\n",
              "      <td>35.0</td>\n",
              "      <td>0</td>\n",
              "      <td>0</td>\n",
              "      <td>8.0500</td>\n",
              "      <td>S</td>\n",
              "      <td>1</td>\n",
              "    </tr>\n",
              "    <tr>\n",
              "      <th>6</th>\n",
              "      <td>0</td>\n",
              "      <td>1</td>\n",
              "      <td>1</td>\n",
              "      <td>54.0</td>\n",
              "      <td>0</td>\n",
              "      <td>0</td>\n",
              "      <td>51.8625</td>\n",
              "      <td>S</td>\n",
              "      <td>0</td>\n",
              "    </tr>\n",
              "    <tr>\n",
              "      <th>7</th>\n",
              "      <td>0</td>\n",
              "      <td>3</td>\n",
              "      <td>1</td>\n",
              "      <td>2.0</td>\n",
              "      <td>3</td>\n",
              "      <td>1</td>\n",
              "      <td>21.0750</td>\n",
              "      <td>S</td>\n",
              "      <td>1</td>\n",
              "    </tr>\n",
              "    <tr>\n",
              "      <th>8</th>\n",
              "      <td>1</td>\n",
              "      <td>3</td>\n",
              "      <td>0</td>\n",
              "      <td>27.0</td>\n",
              "      <td>0</td>\n",
              "      <td>2</td>\n",
              "      <td>11.1333</td>\n",
              "      <td>S</td>\n",
              "      <td>1</td>\n",
              "    </tr>\n",
              "    <tr>\n",
              "      <th>9</th>\n",
              "      <td>1</td>\n",
              "      <td>2</td>\n",
              "      <td>0</td>\n",
              "      <td>14.0</td>\n",
              "      <td>1</td>\n",
              "      <td>0</td>\n",
              "      <td>30.0708</td>\n",
              "      <td>C</td>\n",
              "      <td>1</td>\n",
              "    </tr>\n",
              "    <tr>\n",
              "      <th>10</th>\n",
              "      <td>1</td>\n",
              "      <td>3</td>\n",
              "      <td>0</td>\n",
              "      <td>4.0</td>\n",
              "      <td>1</td>\n",
              "      <td>1</td>\n",
              "      <td>16.7000</td>\n",
              "      <td>S</td>\n",
              "      <td>0</td>\n",
              "    </tr>\n",
              "  </tbody>\n",
              "</table>\n",
              "</div>"
            ],
            "text/plain": [
              "    Survived  Pclass  Sex   Age  SibSp  Parch     Fare Embarked  Cabin_Misssing\n",
              "0          0       3    1  22.0      1      0   7.2500        S               1\n",
              "1          1       1    0  38.0      1      0  71.2833        C               0\n",
              "2          1       3    0  26.0      0      0   7.9250        S               1\n",
              "3          1       1    0  35.0      1      0  53.1000        S               0\n",
              "4          0       3    1  35.0      0      0   8.0500        S               1\n",
              "6          0       1    1  54.0      0      0  51.8625        S               0\n",
              "7          0       3    1   2.0      3      1  21.0750        S               1\n",
              "8          1       3    0  27.0      0      2  11.1333        S               1\n",
              "9          1       2    0  14.0      1      0  30.0708        C               1\n",
              "10         1       3    0   4.0      1      1  16.7000        S               0"
            ]
          },
          "metadata": {},
          "execution_count": 70
        }
      ]
    },
    {
      "cell_type": "code",
      "metadata": {
        "id": "5GMCAGaHn5js",
        "colab": {
          "base_uri": "https://localhost:8080/",
          "height": 206
        },
        "outputId": "0e195444-8cdb-4678-f5bc-f1972f147964"
      },
      "source": [
        "# Converting Embarked to one hot encoding\n",
        "df['S'] = [1 if x == 'S' else 0 for x in df['Embarked']]\n",
        "df['C'] = [1 if x == 'C' else 0 for x in df['Embarked']]\n",
        "df['Q'] = [1 if x == 'Q' else 0 for x in df['Embarked']]\n",
        "df.drop(['Embarked'], axis = 1, inplace = True)\n",
        "df.head(5)"
      ],
      "execution_count": 71,
      "outputs": [
        {
          "output_type": "execute_result",
          "data": {
            "text/html": [
              "<div>\n",
              "<style scoped>\n",
              "    .dataframe tbody tr th:only-of-type {\n",
              "        vertical-align: middle;\n",
              "    }\n",
              "\n",
              "    .dataframe tbody tr th {\n",
              "        vertical-align: top;\n",
              "    }\n",
              "\n",
              "    .dataframe thead th {\n",
              "        text-align: right;\n",
              "    }\n",
              "</style>\n",
              "<table border=\"1\" class=\"dataframe\">\n",
              "  <thead>\n",
              "    <tr style=\"text-align: right;\">\n",
              "      <th></th>\n",
              "      <th>Survived</th>\n",
              "      <th>Pclass</th>\n",
              "      <th>Sex</th>\n",
              "      <th>Age</th>\n",
              "      <th>SibSp</th>\n",
              "      <th>Parch</th>\n",
              "      <th>Fare</th>\n",
              "      <th>Cabin_Misssing</th>\n",
              "      <th>S</th>\n",
              "      <th>C</th>\n",
              "      <th>Q</th>\n",
              "    </tr>\n",
              "  </thead>\n",
              "  <tbody>\n",
              "    <tr>\n",
              "      <th>0</th>\n",
              "      <td>0</td>\n",
              "      <td>3</td>\n",
              "      <td>1</td>\n",
              "      <td>22.0</td>\n",
              "      <td>1</td>\n",
              "      <td>0</td>\n",
              "      <td>7.2500</td>\n",
              "      <td>1</td>\n",
              "      <td>1</td>\n",
              "      <td>0</td>\n",
              "      <td>0</td>\n",
              "    </tr>\n",
              "    <tr>\n",
              "      <th>1</th>\n",
              "      <td>1</td>\n",
              "      <td>1</td>\n",
              "      <td>0</td>\n",
              "      <td>38.0</td>\n",
              "      <td>1</td>\n",
              "      <td>0</td>\n",
              "      <td>71.2833</td>\n",
              "      <td>0</td>\n",
              "      <td>0</td>\n",
              "      <td>1</td>\n",
              "      <td>0</td>\n",
              "    </tr>\n",
              "    <tr>\n",
              "      <th>2</th>\n",
              "      <td>1</td>\n",
              "      <td>3</td>\n",
              "      <td>0</td>\n",
              "      <td>26.0</td>\n",
              "      <td>0</td>\n",
              "      <td>0</td>\n",
              "      <td>7.9250</td>\n",
              "      <td>1</td>\n",
              "      <td>1</td>\n",
              "      <td>0</td>\n",
              "      <td>0</td>\n",
              "    </tr>\n",
              "    <tr>\n",
              "      <th>3</th>\n",
              "      <td>1</td>\n",
              "      <td>1</td>\n",
              "      <td>0</td>\n",
              "      <td>35.0</td>\n",
              "      <td>1</td>\n",
              "      <td>0</td>\n",
              "      <td>53.1000</td>\n",
              "      <td>0</td>\n",
              "      <td>1</td>\n",
              "      <td>0</td>\n",
              "      <td>0</td>\n",
              "    </tr>\n",
              "    <tr>\n",
              "      <th>4</th>\n",
              "      <td>0</td>\n",
              "      <td>3</td>\n",
              "      <td>1</td>\n",
              "      <td>35.0</td>\n",
              "      <td>0</td>\n",
              "      <td>0</td>\n",
              "      <td>8.0500</td>\n",
              "      <td>1</td>\n",
              "      <td>1</td>\n",
              "      <td>0</td>\n",
              "      <td>0</td>\n",
              "    </tr>\n",
              "  </tbody>\n",
              "</table>\n",
              "</div>"
            ],
            "text/plain": [
              "   Survived  Pclass  Sex   Age  SibSp  Parch     Fare  Cabin_Misssing  S  C  Q\n",
              "0         0       3    1  22.0      1      0   7.2500               1  1  0  0\n",
              "1         1       1    0  38.0      1      0  71.2833               0  0  1  0\n",
              "2         1       3    0  26.0      0      0   7.9250               1  1  0  0\n",
              "3         1       1    0  35.0      1      0  53.1000               0  1  0  0\n",
              "4         0       3    1  35.0      0      0   8.0500               1  1  0  0"
            ]
          },
          "metadata": {},
          "execution_count": 71
        }
      ]
    },
    {
      "cell_type": "markdown",
      "metadata": {
        "id": "2n9D8Xeip4xb"
      },
      "source": [
        "<h3> Standardizing numerical featues Age and Fare</h3>"
      ]
    },
    {
      "cell_type": "code",
      "metadata": {
        "id": "XvuWEi5gp4H7",
        "colab": {
          "base_uri": "https://localhost:8080/"
        },
        "outputId": "fb68756e-3b6a-48ea-9ee2-06276aa1ef5d"
      },
      "source": [
        "df[['Age', ['Fare']]] = (df[['Age', 'Fare']] - df[['Age', 'Fare']].mean(axis = 0))/df[['Age', 'Fare']].std(axis = 0)\n",
        "print(df[['Age', 'Fare']].mean(axis =0))\n",
        "print(df[['Age', 'Fare']].std(axis = 0))"
      ],
      "execution_count": 72,
      "outputs": [
        {
          "output_type": "stream",
          "name": "stdout",
          "text": [
            "Age     3.038690e-16\n",
            "Fare    1.126596e-15\n",
            "dtype: float64\n",
            "Age     1.0\n",
            "Fare    1.0\n",
            "dtype: float64\n"
          ]
        }
      ]
    },
    {
      "cell_type": "markdown",
      "metadata": {
        "id": "8rK52okIquTD"
      },
      "source": [
        "<h3> Final Look at the Data </h3>"
      ]
    },
    {
      "cell_type": "code",
      "metadata": {
        "id": "a0Do2ZHhq0KF",
        "colab": {
          "base_uri": "https://localhost:8080/",
          "height": 398
        },
        "outputId": "980c577f-31f5-46cc-8c8c-896a336ba3ea"
      },
      "source": [
        "print(df.shape)\n",
        "print(f'''Percentage of Data removed after cleaning : {100-(df.shape[0]/data.shape[0])*100}''')\n",
        "df.head(10)\n"
      ],
      "execution_count": 73,
      "outputs": [
        {
          "output_type": "stream",
          "name": "stdout",
          "text": [
            "(712, 11)\n",
            "Percentage of Data removed after cleaning : 20.08978675645342\n"
          ]
        },
        {
          "output_type": "execute_result",
          "data": {
            "text/html": [
              "<div>\n",
              "<style scoped>\n",
              "    .dataframe tbody tr th:only-of-type {\n",
              "        vertical-align: middle;\n",
              "    }\n",
              "\n",
              "    .dataframe tbody tr th {\n",
              "        vertical-align: top;\n",
              "    }\n",
              "\n",
              "    .dataframe thead th {\n",
              "        text-align: right;\n",
              "    }\n",
              "</style>\n",
              "<table border=\"1\" class=\"dataframe\">\n",
              "  <thead>\n",
              "    <tr style=\"text-align: right;\">\n",
              "      <th></th>\n",
              "      <th>Survived</th>\n",
              "      <th>Pclass</th>\n",
              "      <th>Sex</th>\n",
              "      <th>Age</th>\n",
              "      <th>SibSp</th>\n",
              "      <th>Parch</th>\n",
              "      <th>Fare</th>\n",
              "      <th>Cabin_Misssing</th>\n",
              "      <th>S</th>\n",
              "      <th>C</th>\n",
              "      <th>Q</th>\n",
              "    </tr>\n",
              "  </thead>\n",
              "  <tbody>\n",
              "    <tr>\n",
              "      <th>0</th>\n",
              "      <td>0</td>\n",
              "      <td>3</td>\n",
              "      <td>1</td>\n",
              "      <td>-0.527298</td>\n",
              "      <td>1</td>\n",
              "      <td>0</td>\n",
              "      <td>-0.516017</td>\n",
              "      <td>1</td>\n",
              "      <td>1</td>\n",
              "      <td>0</td>\n",
              "      <td>0</td>\n",
              "    </tr>\n",
              "    <tr>\n",
              "      <th>1</th>\n",
              "      <td>1</td>\n",
              "      <td>1</td>\n",
              "      <td>0</td>\n",
              "      <td>0.576688</td>\n",
              "      <td>1</td>\n",
              "      <td>0</td>\n",
              "      <td>0.693558</td>\n",
              "      <td>0</td>\n",
              "      <td>0</td>\n",
              "      <td>1</td>\n",
              "      <td>0</td>\n",
              "    </tr>\n",
              "    <tr>\n",
              "      <th>2</th>\n",
              "      <td>1</td>\n",
              "      <td>3</td>\n",
              "      <td>0</td>\n",
              "      <td>-0.251301</td>\n",
              "      <td>0</td>\n",
              "      <td>0</td>\n",
              "      <td>-0.503267</td>\n",
              "      <td>1</td>\n",
              "      <td>1</td>\n",
              "      <td>0</td>\n",
              "      <td>0</td>\n",
              "    </tr>\n",
              "    <tr>\n",
              "      <th>3</th>\n",
              "      <td>1</td>\n",
              "      <td>1</td>\n",
              "      <td>0</td>\n",
              "      <td>0.369691</td>\n",
              "      <td>1</td>\n",
              "      <td>0</td>\n",
              "      <td>0.350080</td>\n",
              "      <td>0</td>\n",
              "      <td>1</td>\n",
              "      <td>0</td>\n",
              "      <td>0</td>\n",
              "    </tr>\n",
              "    <tr>\n",
              "      <th>4</th>\n",
              "      <td>0</td>\n",
              "      <td>3</td>\n",
              "      <td>1</td>\n",
              "      <td>0.369691</td>\n",
              "      <td>0</td>\n",
              "      <td>0</td>\n",
              "      <td>-0.500905</td>\n",
              "      <td>1</td>\n",
              "      <td>1</td>\n",
              "      <td>0</td>\n",
              "      <td>0</td>\n",
              "    </tr>\n",
              "    <tr>\n",
              "      <th>6</th>\n",
              "      <td>0</td>\n",
              "      <td>1</td>\n",
              "      <td>1</td>\n",
              "      <td>1.680675</td>\n",
              "      <td>0</td>\n",
              "      <td>0</td>\n",
              "      <td>0.326704</td>\n",
              "      <td>0</td>\n",
              "      <td>1</td>\n",
              "      <td>0</td>\n",
              "      <td>0</td>\n",
              "    </tr>\n",
              "    <tr>\n",
              "      <th>7</th>\n",
              "      <td>0</td>\n",
              "      <td>3</td>\n",
              "      <td>1</td>\n",
              "      <td>-1.907281</td>\n",
              "      <td>3</td>\n",
              "      <td>1</td>\n",
              "      <td>-0.254866</td>\n",
              "      <td>1</td>\n",
              "      <td>1</td>\n",
              "      <td>0</td>\n",
              "      <td>0</td>\n",
              "    </tr>\n",
              "    <tr>\n",
              "      <th>8</th>\n",
              "      <td>1</td>\n",
              "      <td>3</td>\n",
              "      <td>0</td>\n",
              "      <td>-0.182302</td>\n",
              "      <td>0</td>\n",
              "      <td>2</td>\n",
              "      <td>-0.442662</td>\n",
              "      <td>1</td>\n",
              "      <td>1</td>\n",
              "      <td>0</td>\n",
              "      <td>0</td>\n",
              "    </tr>\n",
              "    <tr>\n",
              "      <th>9</th>\n",
              "      <td>1</td>\n",
              "      <td>2</td>\n",
              "      <td>0</td>\n",
              "      <td>-1.079291</td>\n",
              "      <td>1</td>\n",
              "      <td>0</td>\n",
              "      <td>-0.084937</td>\n",
              "      <td>1</td>\n",
              "      <td>0</td>\n",
              "      <td>1</td>\n",
              "      <td>0</td>\n",
              "    </tr>\n",
              "    <tr>\n",
              "      <th>10</th>\n",
              "      <td>1</td>\n",
              "      <td>3</td>\n",
              "      <td>0</td>\n",
              "      <td>-1.769283</td>\n",
              "      <td>1</td>\n",
              "      <td>1</td>\n",
              "      <td>-0.337509</td>\n",
              "      <td>0</td>\n",
              "      <td>1</td>\n",
              "      <td>0</td>\n",
              "      <td>0</td>\n",
              "    </tr>\n",
              "  </tbody>\n",
              "</table>\n",
              "</div>"
            ],
            "text/plain": [
              "    Survived  Pclass  Sex       Age  SibSp  ...      Fare  Cabin_Misssing  S  C  Q\n",
              "0          0       3    1 -0.527298      1  ... -0.516017               1  1  0  0\n",
              "1          1       1    0  0.576688      1  ...  0.693558               0  0  1  0\n",
              "2          1       3    0 -0.251301      0  ... -0.503267               1  1  0  0\n",
              "3          1       1    0  0.369691      1  ...  0.350080               0  1  0  0\n",
              "4          0       3    1  0.369691      0  ... -0.500905               1  1  0  0\n",
              "6          0       1    1  1.680675      0  ...  0.326704               0  1  0  0\n",
              "7          0       3    1 -1.907281      3  ... -0.254866               1  1  0  0\n",
              "8          1       3    0 -0.182302      0  ... -0.442662               1  1  0  0\n",
              "9          1       2    0 -1.079291      1  ... -0.084937               1  0  1  0\n",
              "10         1       3    0 -1.769283      1  ... -0.337509               0  1  0  0\n",
              "\n",
              "[10 rows x 11 columns]"
            ]
          },
          "metadata": {},
          "execution_count": 73
        }
      ]
    },
    {
      "cell_type": "code",
      "metadata": {
        "id": "mJJuW6gJrP-b",
        "colab": {
          "base_uri": "https://localhost:8080/",
          "height": 206
        },
        "outputId": "b56f453f-9f86-4595-cb35-0b05dc716d38"
      },
      "source": [
        "X = df[df.columns[1:]]\n",
        "y = df['Survived']\n",
        "X.head(5)"
      ],
      "execution_count": 74,
      "outputs": [
        {
          "output_type": "execute_result",
          "data": {
            "text/html": [
              "<div>\n",
              "<style scoped>\n",
              "    .dataframe tbody tr th:only-of-type {\n",
              "        vertical-align: middle;\n",
              "    }\n",
              "\n",
              "    .dataframe tbody tr th {\n",
              "        vertical-align: top;\n",
              "    }\n",
              "\n",
              "    .dataframe thead th {\n",
              "        text-align: right;\n",
              "    }\n",
              "</style>\n",
              "<table border=\"1\" class=\"dataframe\">\n",
              "  <thead>\n",
              "    <tr style=\"text-align: right;\">\n",
              "      <th></th>\n",
              "      <th>Pclass</th>\n",
              "      <th>Sex</th>\n",
              "      <th>Age</th>\n",
              "      <th>SibSp</th>\n",
              "      <th>Parch</th>\n",
              "      <th>Fare</th>\n",
              "      <th>Cabin_Misssing</th>\n",
              "      <th>S</th>\n",
              "      <th>C</th>\n",
              "      <th>Q</th>\n",
              "    </tr>\n",
              "  </thead>\n",
              "  <tbody>\n",
              "    <tr>\n",
              "      <th>0</th>\n",
              "      <td>3</td>\n",
              "      <td>1</td>\n",
              "      <td>-0.527298</td>\n",
              "      <td>1</td>\n",
              "      <td>0</td>\n",
              "      <td>-0.516017</td>\n",
              "      <td>1</td>\n",
              "      <td>1</td>\n",
              "      <td>0</td>\n",
              "      <td>0</td>\n",
              "    </tr>\n",
              "    <tr>\n",
              "      <th>1</th>\n",
              "      <td>1</td>\n",
              "      <td>0</td>\n",
              "      <td>0.576688</td>\n",
              "      <td>1</td>\n",
              "      <td>0</td>\n",
              "      <td>0.693558</td>\n",
              "      <td>0</td>\n",
              "      <td>0</td>\n",
              "      <td>1</td>\n",
              "      <td>0</td>\n",
              "    </tr>\n",
              "    <tr>\n",
              "      <th>2</th>\n",
              "      <td>3</td>\n",
              "      <td>0</td>\n",
              "      <td>-0.251301</td>\n",
              "      <td>0</td>\n",
              "      <td>0</td>\n",
              "      <td>-0.503267</td>\n",
              "      <td>1</td>\n",
              "      <td>1</td>\n",
              "      <td>0</td>\n",
              "      <td>0</td>\n",
              "    </tr>\n",
              "    <tr>\n",
              "      <th>3</th>\n",
              "      <td>1</td>\n",
              "      <td>0</td>\n",
              "      <td>0.369691</td>\n",
              "      <td>1</td>\n",
              "      <td>0</td>\n",
              "      <td>0.350080</td>\n",
              "      <td>0</td>\n",
              "      <td>1</td>\n",
              "      <td>0</td>\n",
              "      <td>0</td>\n",
              "    </tr>\n",
              "    <tr>\n",
              "      <th>4</th>\n",
              "      <td>3</td>\n",
              "      <td>1</td>\n",
              "      <td>0.369691</td>\n",
              "      <td>0</td>\n",
              "      <td>0</td>\n",
              "      <td>-0.500905</td>\n",
              "      <td>1</td>\n",
              "      <td>1</td>\n",
              "      <td>0</td>\n",
              "      <td>0</td>\n",
              "    </tr>\n",
              "  </tbody>\n",
              "</table>\n",
              "</div>"
            ],
            "text/plain": [
              "   Pclass  Sex       Age  SibSp  Parch      Fare  Cabin_Misssing  S  C  Q\n",
              "0       3    1 -0.527298      1      0 -0.516017               1  1  0  0\n",
              "1       1    0  0.576688      1      0  0.693558               0  0  1  0\n",
              "2       3    0 -0.251301      0      0 -0.503267               1  1  0  0\n",
              "3       1    0  0.369691      1      0  0.350080               0  1  0  0\n",
              "4       3    1  0.369691      0      0 -0.500905               1  1  0  0"
            ]
          },
          "metadata": {},
          "execution_count": 74
        }
      ]
    },
    {
      "cell_type": "code",
      "metadata": {
        "id": "3WlA6WnYvJzZ"
      },
      "source": [
        "tsne = TSNE(n_components=2, perplexity=50, n_iter= 2500)\n",
        "tsne_result = tsne.fit_transform(X)"
      ],
      "execution_count": 75,
      "outputs": []
    },
    {
      "cell_type": "code",
      "metadata": {
        "id": "PXaNJZEy0CcF",
        "colab": {
          "base_uri": "https://localhost:8080/",
          "height": 785
        },
        "outputId": "fc32b4fd-8ee1-451e-8d18-b64f1392ec35"
      },
      "source": [
        "tsne_new = np.hstack([tsne_result, df['Survived'].values.reshape(-1, 1)])\n",
        "tsne_df = pd.DataFrame(tsne_new, columns = ['dim1', 'dim2', 'survived'])\n",
        "plt.figure(figsize = (7, 1))\n",
        "sns.FacetGrid(tsne_df, hue = 'survived', size = 10).map(plt.scatter, 'dim1', 'dim2').add_legend()\n",
        "plt.title('TSNE plot with peplexity 30', fontsize = 20)"
      ],
      "execution_count": 76,
      "outputs": [
        {
          "output_type": "execute_result",
          "data": {
            "text/plain": [
              "Text(0.5, 1.0, 'TSNE plot with peplexity 30')"
            ]
          },
          "metadata": {},
          "execution_count": 76
        },
        {
          "output_type": "display_data",
          "data": {
            "text/plain": [
              "<Figure size 504x72 with 0 Axes>"
            ]
          },
          "metadata": {}
        },
        {
          "output_type": "display_data",
          "data": {
            "image/png": "[encoded data removed]",
            "text/plain": [
              "<Figure size 771.875x720 with 1 Axes>"
            ]
          },
          "metadata": {}
        }
      ]
    },
    {
      "cell_type": "markdown",
      "metadata": {
        "id": "ptTqysfG0P3k"
      },
      "source": [
        "<h5> Distinction among the two class of points quite clear</h5> "
      ]
    },
    {
      "cell_type": "markdown",
      "metadata": {
        "id": "Ln4L2Y7xsLlJ"
      },
      "source": [
        "<h3>Train test Splitting</h3>"
      ]
    },
    {
      "cell_type": "code",
      "metadata": {
        "id": "Umy5QAdqsOqb",
        "colab": {
          "base_uri": "https://localhost:8080/"
        },
        "outputId": "165cbf09-1a96-4da4-ec96-48bd8fe76752"
      },
      "source": [
        "train_x, test_x, train_y, test_y = train_test_split(X, y, test_size = 0.2, random_state=0, stratify = y)\n",
        "traincv_x, testcv_x, traincv_y, testcv_y = train_test_split(train_x, train_y, test_size = 0.2, random_state=0, stratify = train_y)\n",
        "print('Training and Test Data')\n",
        "print('-'*50)\n",
        "print(f'Train_x data : {train_x.shape}')\n",
        "print(f'Train_y data : {train_y.shape}')\n",
        "print(f'Test_x data : {test_x.shape}')\n",
        "print(f'Test_y data : {test_y.shape}')\n",
        "print('-'*50)\n",
        "print('Cross-validation Data')\n",
        "print(f'Train_x data : {traincv_x.shape}')\n",
        "print(f'Train_y data : {traincv_y.shape}')\n",
        "print(f'Test_x data : {testcv_x.shape}')\n",
        "print(f'Test_y data : {testcv_y.shape}')"
      ],
      "execution_count": 77,
      "outputs": [
        {
          "output_type": "stream",
          "name": "stdout",
          "text": [
            "Training and Test Data\n",
            "--------------------------------------------------\n",
            "Train_x data : (569, 10)\n",
            "Train_y data : (569,)\n",
            "Test_x data : (143, 10)\n",
            "Test_y data : (143,)\n",
            "--------------------------------------------------\n",
            "Cross-validation Data\n",
            "Train_x data : (455, 10)\n",
            "Train_y data : (455,)\n",
            "Test_x data : (114, 10)\n",
            "Test_y data : (114,)\n"
          ]
        }
      ]
    },
    {
      "cell_type": "markdown",
      "metadata": {
        "id": "8Iqul5yftwJa"
      },
      "source": [
        "<h3> Balancedness in Train and Test</h3>"
      ]
    },
    {
      "cell_type": "code",
      "metadata": {
        "id": "PcWZa3Z2tvtT",
        "colab": {
          "base_uri": "https://localhost:8080/",
          "height": 628
        },
        "outputId": "7143d6c4-3ce1-46b5-e014-8735c2cd23dd"
      },
      "source": [
        "plt.figure(figsize = (15, 10))\n",
        "plt.subplot(2, 2, 1)\n",
        "sns.countplot(x = train_y)\n",
        "plt.xlabel('Survived', fontsize = 15)\n",
        "plt.ylabel('Frequency', fontsize = 15)\n",
        "plt.subplot(2, 2, 2)\n",
        "sns.countplot(x = test_y)\n",
        "plt.xlabel('Survived', fontsize = 15)\n",
        "plt.ylabel('Frequency', fontsize = 15)\n",
        "plt.subplot(2, 2, 3)\n",
        "sns.countplot(x = traincv_y)\n",
        "plt.xlabel('Survived', fontsize = 15)\n",
        "plt.ylabel('Frequency', fontsize = 15)\n",
        "plt.subplot(2, 2, 4)\n",
        "sns.countplot(x = testcv_y)\n",
        "plt.xlabel('Survived', fontsize = 15)\n",
        "plt.ylabel('Frequency', fontsize = 15)\n"
      ],
      "execution_count": 78,
      "outputs": [
        {
          "output_type": "execute_result",
          "data": {
            "text/plain": [
              "Text(0, 0.5, 'Frequency')"
            ]
          },
          "metadata": {},
          "execution_count": 78
        },
        {
          "output_type": "display_data",
          "data": {
            "image/png": "[encoded data removed]",
            "text/plain": [
              "<Figure size 1080x720 with 4 Axes>"
            ]
          },
          "metadata": {}
        }
      ]
    },
    {
      "cell_type": "markdown",
      "metadata": {
        "id": "S1mXTx36LGSF"
      },
      "source": [
        "<h3> ML Models</h3>"
      ]
    },
    {
      "cell_type": "code",
      "metadata": {
        "id": "bzsimtukPqP7"
      },
      "source": [
        "model_dir = '/models'\n",
        "if not os.path.isdir(dir + model_dir):\n",
        "  os.mkdir(dir + model_dir)"
      ],
      "execution_count": 79,
      "outputs": []
    },
    {
      "cell_type": "code",
      "metadata": {
        "id": "kEZLW1ng7YDy"
      },
      "source": [
        "def plot_train_test_loss(train_loss, test_loss, hyperparam):\n",
        "  plt.figure(figsize=(10, 5))\n",
        "  plt.plot(hyperparam, train_loss, color = 'r', label = 'Training Loss',)\n",
        "  plt.plot(hyperparam,  test_loss, color = 'g', label = 'Test Loss')\n",
        "  plt.ylim(0, 50)\n",
        "  plt.scatter(x = hyperparam, y = train_loss, c = 'red')\n",
        "  plt.scatter(x = hyperparam, y = test_loss, c = 'g')\n",
        "  plt.xlabel('Hyperparameter : ', fontsize = 10)\n",
        "  plt.ylabel('Loss', fontsize = 10)\n",
        "  plt.title('Training & Test Loss', fontsize = 15)\n",
        "  plt.legend()\n",
        "  plt.show()"
      ],
      "execution_count": 80,
      "outputs": []
    },
    {
      "cell_type": "markdown",
      "metadata": {
        "id": "0ydxmqM0LOIi"
      },
      "source": [
        "<h4>1. Logistic Regression</h4>"
      ]
    },
    {
      "cell_type": "code",
      "metadata": {
        "id": "IzMzD3p1jXym",
        "colab": {
          "base_uri": "https://localhost:8080/"
        },
        "outputId": "2cbfecfa-602a-484b-d8c6-0b959d554bbe"
      },
      "source": [
        "file_name_loglr_rcv = dir + model_dir + '/logistic_regression_rcv.sav'\n",
        "if not os.path.isfile(file_name_loglr_rcv):\n",
        "  params = dict(C=uniform(loc=0, scale = 1), penalty=['l1', 'l2'])\n",
        "  lr = LogisticRegression(random_state =0)\n",
        "  clf = RandomizedSearchCV(lr, params, random_state =0)\n",
        "  search = clf.fit(train_x, train_y)\n",
        "  tuned_params = search.best_params_\n",
        "  print(tuned_params)\n",
        "  model_lr_rcv = LogisticRegression(C = tuned_params['C'], penalty= tuned_params['penalty'], random_state = 0).fit(train_x, train_y)\n",
        "  model_lr_rcv.fit(train_x, train_y)\n",
        "  pkl.dump(model_lr_rcv, open(file_name_loglr_rcv, 'wb'))\n",
        "else:\n",
        "  model_lr_rcv = pkl.load(open(file_name_loglr_rcv, 'rb'))\n",
        "\n",
        "train_acc = model_lr_rcv.score(train_x, train_y)\n",
        "test_acc = model_lr_rcv.score(test_x, test_y)\n",
        "print(f'''Train accuracy : {train_acc}, Test accuracy : {test_acc}''')"
      ],
      "execution_count": 81,
      "outputs": [
        {
          "output_type": "stream",
          "name": "stdout",
          "text": [
            "Train accuracy : 0.7961335676625659, Test accuracy : 0.8601398601398601\n"
          ]
        }
      ]
    },
    {
      "cell_type": "code",
      "metadata": {
        "id": "hySypg6Tm_Gp",
        "colab": {
          "base_uri": "https://localhost:8080/"
        },
        "outputId": "f1a66d29-3e46-405e-911e-4512d8aa3602"
      },
      "source": [
        "file_name_loglr = dir + model_dir + '/logistic_regression.sav'\n",
        "if not os.path.isfile(file_name_loglr):\n",
        "  C = [0.0001, 0.001, 0.01, 0.1, 0, 1, 2, 5, 10, 100, 1000, 10000]\n",
        "  param_grid = dict(C = C, penalty = ['l1', 'l2'])\n",
        "  log_lr = LogisticRegression(random_state=0)\n",
        "  model_loglr = GridSearchCV(log_lr, param_grid= param_grid, cv=5, return_train_score=True)\n",
        "  model_loglr.fit(train_x, train_y)\n",
        "  print(\"Model with best parameters :\\n\",model_loglr.best_params_)\n",
        "  model_lr_gcv = LogisticRegression(**model_loglr.best_params_, random_state=0)\n",
        "  model_lr_gcv.fit(train_x, train_y)\n",
        "  pkl.dump(model_lr_gcv, open(file_name_loglr, 'wb'))\n",
        "else:\n",
        "  model_lr_gcv = pkl.load(open(file_name_loglr, 'rb'))\n",
        "train_acc_lr = model_lr_gcv.score(train_x, train_y)\n",
        "test_acc_lr = model_lr_gcv.score(test_x, test_y)\n",
        "print(f'''Train accuracy : {train_acc}; Test accuracy : {test_acc}''')"
      ],
      "execution_count": 82,
      "outputs": [
        {
          "output_type": "stream",
          "name": "stdout",
          "text": [
            "Train accuracy : 0.7961335676625659; Test accuracy : 0.8601398601398601\n"
          ]
        }
      ]
    },
    {
      "cell_type": "code",
      "metadata": {
        "id": "x8DAtw9Tq58e",
        "colab": {
          "base_uri": "https://localhost:8080/",
          "height": 363
        },
        "outputId": "8bd88421-6876-4b62-fff2-b61d430c2846"
      },
      "source": [
        "lr_coef = model_lr_gcv.coef_.reshape(-1, 1)\n",
        "feat_imp = pd.DataFrame(lr_coef, columns=['coef'], index = train_x.columns)\n",
        "imp_feat = feat_imp.sort_values(by = 'coef', ascending = False)\n",
        "imp_feat"
      ],
      "execution_count": 83,
      "outputs": [
        {
          "output_type": "execute_result",
          "data": {
            "text/html": [
              "<div>\n",
              "<style scoped>\n",
              "    .dataframe tbody tr th:only-of-type {\n",
              "        vertical-align: middle;\n",
              "    }\n",
              "\n",
              "    .dataframe tbody tr th {\n",
              "        vertical-align: top;\n",
              "    }\n",
              "\n",
              "    .dataframe thead th {\n",
              "        text-align: right;\n",
              "    }\n",
              "</style>\n",
              "<table border=\"1\" class=\"dataframe\">\n",
              "  <thead>\n",
              "    <tr style=\"text-align: right;\">\n",
              "      <th></th>\n",
              "      <th>coef</th>\n",
              "    </tr>\n",
              "  </thead>\n",
              "  <tbody>\n",
              "    <tr>\n",
              "      <th>C</th>\n",
              "      <td>0.367835</td>\n",
              "    </tr>\n",
              "    <tr>\n",
              "      <th>S</th>\n",
              "      <td>0.050301</td>\n",
              "    </tr>\n",
              "    <tr>\n",
              "      <th>Fare</th>\n",
              "      <td>0.015234</td>\n",
              "    </tr>\n",
              "    <tr>\n",
              "      <th>Parch</th>\n",
              "      <td>-0.176565</td>\n",
              "    </tr>\n",
              "    <tr>\n",
              "      <th>SibSp</th>\n",
              "      <td>-0.383826</td>\n",
              "    </tr>\n",
              "    <tr>\n",
              "      <th>Q</th>\n",
              "      <td>-0.417849</td>\n",
              "    </tr>\n",
              "    <tr>\n",
              "      <th>Age</th>\n",
              "      <td>-0.561926</td>\n",
              "    </tr>\n",
              "    <tr>\n",
              "      <th>Cabin_Misssing</th>\n",
              "      <td>-0.652992</td>\n",
              "    </tr>\n",
              "    <tr>\n",
              "      <th>Pclass</th>\n",
              "      <td>-0.858850</td>\n",
              "    </tr>\n",
              "    <tr>\n",
              "      <th>Sex</th>\n",
              "      <td>-2.451993</td>\n",
              "    </tr>\n",
              "  </tbody>\n",
              "</table>\n",
              "</div>"
            ],
            "text/plain": [
              "                    coef\n",
              "C               0.367835\n",
              "S               0.050301\n",
              "Fare            0.015234\n",
              "Parch          -0.176565\n",
              "SibSp          -0.383826\n",
              "Q              -0.417849\n",
              "Age            -0.561926\n",
              "Cabin_Misssing -0.652992\n",
              "Pclass         -0.858850\n",
              "Sex            -2.451993"
            ]
          },
          "metadata": {},
          "execution_count": 83
        }
      ]
    },
    {
      "cell_type": "markdown",
      "metadata": {
        "id": "4PbeKnMmOgn1"
      },
      "source": [
        "<h4>2. KNN</h4>"
      ]
    },
    {
      "cell_type": "markdown",
      "metadata": {
        "id": "lW28QPhfUpcw"
      },
      "source": [
        "<h5>Weights : Uniform</h5>"
      ]
    },
    {
      "cell_type": "code",
      "metadata": {
        "id": "4MwyO9O7OqiL",
        "colab": {
          "base_uri": "https://localhost:8080/"
        },
        "outputId": "652d819d-1f53-4c5a-b3f6-33a1bdd9a66f"
      },
      "source": [
        "file_name_knn = dir + model_dir + '/knn.sav'\n",
        "if not os.path.isfile(file_name_knn):\n",
        "  n_neighbors = [1, 3, 5, 7, 100, 569]\n",
        "  weights= ['uniform', 'distance']\n",
        "  param_grid = dict(n_neighbors = n_neighbors, weights = weights)\n",
        "  knn = KNeighborsClassifier()\n",
        "  model_knn = GridSearchCV(knn, param_grid, cv = 5, return_train_score = True)\n",
        "  model_knn.fit(train_x, train_y)\n",
        "  print(model_knn.best_params_)\n",
        "  model_knn = KNeighborsClassifier(**model_knn.best_params_)\n",
        "  model_knn.fit(train_x, train_y)\n",
        "  pkl.dump(model_knn, open(file_name_knn, 'wb'))\n",
        "else:\n",
        "  model_knn = pkl.load(open(file_name_knn, 'rb'))\n",
        "train_acc_knn = model_knn.score(train_x, train_y)\n",
        "test_acc_knn = model_knn.score(test_x, test_y)\n",
        "print(f'''Train accuracy : {train_acc_knn}; Test accuracy : {test_acc_knn}''')\n",
        "  "
      ],
      "execution_count": 84,
      "outputs": [
        {
          "output_type": "stream",
          "name": "stdout",
          "text": [
            "Train accuracy : 0.8224956063268892; Test accuracy : 0.8391608391608392\n"
          ]
        }
      ]
    },
    {
      "cell_type": "markdown",
      "metadata": {
        "id": "CvnZfbKPUwRZ"
      },
      "source": [
        "<h5> Best performance for k = 7; Clearly the KNN model does not overfit. But Underfitting problem is there.</h5>"
      ]
    },
    {
      "cell_type": "markdown",
      "metadata": {
        "id": "yGfCdgbbVZLo"
      },
      "source": [
        "<h4>3. SVM</h4>"
      ]
    },
    {
      "cell_type": "code",
      "metadata": {
        "id": "eQwrjqnQVYth",
        "colab": {
          "base_uri": "https://localhost:8080/"
        },
        "outputId": "204c637b-59e2-44ba-a0a1-a17b3ae975a6"
      },
      "source": [
        "file_name_svm = dir + model_dir + '/svm.sav'\n",
        "if not os.path.isfile(file_name_svm):\n",
        "  C = [0.0001, 0.001, 0.01, 0.1, 1, 2, 5, 10, 50, 100, 1000, 10000]\n",
        "  kernel = ['linear', 'poly', 'sigmoid', 'rbf']\n",
        "  degree = [1, 2, 3, 5]\n",
        "  gamma = ['scale', 'auto']\n",
        "  param_grid_svc = dict(C = C, kernel = kernel, degree = degree, gamma = gamma)\n",
        "  svm = SVC(random_state=0)\n",
        "  model_svm = GridSearchCV(svm, param_grid_svc, cv = 5, return_train_score=True)\n",
        "  start = time.time()\n",
        "  model_svm.fit(train_x, train_y)\n",
        "  end = time.time()\n",
        "  print(f'''Training time: {end-start} s''')\n",
        "  print(model_svm.best_params_)\n",
        "  model_svm = SVC(**model_svm.best_params_, random_state=0)\n",
        "  model_svm.fit(train_x, train_y)\n",
        "  pkl.dump(model_svm, open(file_name_svm, 'wb'))\n",
        "else:\n",
        "  model_svm = pkl.load(open(file_name_svm, 'rb'))\n",
        "train_acc_svm = model_svm.score(train_x, train_y)\n",
        "test_acc_svm = model_svm.score(test_x, test_y)\n",
        "print(f'''Train accuracy : {train_acc_svm}; Test accuracy : {test_acc_svm}''')"
      ],
      "execution_count": 85,
      "outputs": [
        {
          "output_type": "stream",
          "name": "stdout",
          "text": [
            "Train accuracy : 0.8224956063268892; Test accuracy : 0.8601398601398601\n"
          ]
        }
      ]
    },
    {
      "cell_type": "markdown",
      "metadata": {
        "id": "TfLb_ZqtpJpx"
      },
      "source": [
        "<h4>4. Naive Bayes</h4>"
      ]
    },
    {
      "cell_type": "code",
      "metadata": {
        "id": "tVb2GEVevkAM"
      },
      "source": [
        "df_nb = df.copy()\n",
        "df_nb['Age'] = (df['Age']-df['Age'].min())/(df['Age'].max()-df['Age'].min())\n",
        "df_nb['Fare'] = (df['Fare']-df['Fare'].min())/(df['Fare'].max()-df['Fare'].min())\n",
        "train_nb_x, test_nb_x, train_nb_y, test_nb_y = train_test_split(df_nb[df_nb.columns[1:]], df_nb['Survived'], test_size = 0.2, random_state=0, stratify = y)"
      ],
      "execution_count": 86,
      "outputs": []
    },
    {
      "cell_type": "code",
      "metadata": {
        "id": "uLxCUGp0pH5M",
        "colab": {
          "base_uri": "https://localhost:8080/"
        },
        "outputId": "35065d70-de57-43cf-bd1a-d2b1ba550ce5"
      },
      "source": [
        "file_name_nb = dir + model_dir + '/naive_bayes.sav'\n",
        "if not os.path.isfile(file_name_nb):\n",
        "  alpha = [0.0001, 0.001, 0.01, 0.1, 0, 1, 10, 100, 1000, 10000]\n",
        "  param_grid = dict(alpha = alpha)\n",
        "  nb = MultinomialNB()\n",
        "  model_nb = GridSearchCV(nb, param_grid, cv = 5, return_train_score= True)\n",
        "  start = time.time()\n",
        "  model_nb.fit(train_nb_x, train_nb_y)\n",
        "  end = time.time()\n",
        "  print(f'''Training time: {end-start}''')\n",
        "  print(model_nb.best_params_)\n",
        "  model_nb = MultinomialNB(**model_nb.best_params_)\n",
        "  model_nb.fit(train_nb_x, train_nb_y)\n",
        "  pkl.dump(model_nb, open(file_name_nb, 'wb'))\n",
        "else:\n",
        "  model_nb = pkl.load(open(file_name_nb, 'rb'))\n",
        "train_acc_nb = model_nb.score(train_nb_x, train_nb_y)\n",
        "test_acc_nb = model_nb.score(test_nb_x, test_nb_y)\n",
        "print(f'''Train accuracy : {train_acc_nb}; Test accuracy : {test_acc_nb}''')"
      ],
      "execution_count": 87,
      "outputs": [
        {
          "output_type": "stream",
          "name": "stdout",
          "text": [
            "Train accuracy : 0.671353251318102; Test accuracy : 0.7412587412587412\n"
          ]
        }
      ]
    },
    {
      "cell_type": "markdown",
      "metadata": {
        "id": "SKRLi5tc8E2N"
      },
      "source": [
        "<h4>5. Decision Trees</h4>"
      ]
    },
    {
      "cell_type": "code",
      "metadata": {
        "id": "5ZZr9-nc7-T1",
        "colab": {
          "base_uri": "https://localhost:8080/"
        },
        "outputId": "42b8c070-f516-4abd-cffc-b9ebef005a25"
      },
      "source": [
        "file_name_dt = dir + model_dir + '/decision_tree.sav'\n",
        "if not os.path.isfile(file_name_dt):\n",
        "  criterion = ['gini', 'entropy']\n",
        "  splitter = ['best', 'random']\n",
        "  max_depth = [1, 2, 3, 4, 5, 6, 7, 8]\n",
        "  min_samples_split = [2, 4, 8, 16, 32, 64]\n",
        "  max_features = ['auto', 'sqrt', 'log2', 'None', 0.1, 0.2, 0.3, 0.4, 0.5]\n",
        "  param_grid = dict(criterion = criterion, splitter = splitter, max_depth = max_depth, min_samples_split = min_samples_split, max_features = max_features)\n",
        "\n",
        "  dt = DecisionTreeClassifier(random_state = 0)\n",
        "  model_dt = GridSearchCV(dt, param_grid, cv = 5, return_train_score = True)\n",
        "  start = time.time()\n",
        "  model_dt.fit(train_x, train_y)\n",
        "  end = time.time()\n",
        "  print(f'Training Time : {end-start}')\n",
        "  print(model_dt.best_params_)\n",
        "  model_dt = DecisionTreeClassifier(**model_dt.best_params_, random_state=0)\n",
        "  model_dt.fit(train_x, train_y)\n",
        "  pkl.dump(model_dt, open(file_name_dt, 'wb'))\n",
        "else:\n",
        "  model_dt = pkl.load(open(file_name_dt, 'rb'))\n",
        "train_acc_dt = model_dt.score(train_x, train_y)\n",
        "test_acc_dt = model_dt.score(test_x, test_y)\n",
        "print(f'''Train accuracy : {train_acc_dt}; Test accuracy : {test_acc_dt}''')"
      ],
      "execution_count": 88,
      "outputs": [
        {
          "output_type": "stream",
          "name": "stdout",
          "text": [
            "Train accuracy : 0.8347978910369068; Test accuracy : 0.8531468531468531\n"
          ]
        }
      ]
    },
    {
      "cell_type": "code",
      "metadata": {
        "id": "itghS5E-ATZA",
        "colab": {
          "base_uri": "https://localhost:8080/",
          "height": 363
        },
        "outputId": "53ce6f39-b095-4ea3-a560-95cf8706d82f"
      },
      "source": [
        "feat_imp = pd.Series(model_dt.feature_importances_, index = train_x.columns)\n",
        "feat_imp.sort_values(ascending = False, inplace = True)\n",
        "pd.DataFrame(feat_imp, columns = ['Feature Imp'])"
      ],
      "execution_count": 89,
      "outputs": [
        {
          "output_type": "execute_result",
          "data": {
            "text/html": [
              "<div>\n",
              "<style scoped>\n",
              "    .dataframe tbody tr th:only-of-type {\n",
              "        vertical-align: middle;\n",
              "    }\n",
              "\n",
              "    .dataframe tbody tr th {\n",
              "        vertical-align: top;\n",
              "    }\n",
              "\n",
              "    .dataframe thead th {\n",
              "        text-align: right;\n",
              "    }\n",
              "</style>\n",
              "<table border=\"1\" class=\"dataframe\">\n",
              "  <thead>\n",
              "    <tr style=\"text-align: right;\">\n",
              "      <th></th>\n",
              "      <th>Feature Imp</th>\n",
              "    </tr>\n",
              "  </thead>\n",
              "  <tbody>\n",
              "    <tr>\n",
              "      <th>Sex</th>\n",
              "      <td>0.432083</td>\n",
              "    </tr>\n",
              "    <tr>\n",
              "      <th>Cabin_Misssing</th>\n",
              "      <td>0.196036</td>\n",
              "    </tr>\n",
              "    <tr>\n",
              "      <th>Age</th>\n",
              "      <td>0.130082</td>\n",
              "    </tr>\n",
              "    <tr>\n",
              "      <th>Pclass</th>\n",
              "      <td>0.109463</td>\n",
              "    </tr>\n",
              "    <tr>\n",
              "      <th>SibSp</th>\n",
              "      <td>0.071346</td>\n",
              "    </tr>\n",
              "    <tr>\n",
              "      <th>Fare</th>\n",
              "      <td>0.047878</td>\n",
              "    </tr>\n",
              "    <tr>\n",
              "      <th>C</th>\n",
              "      <td>0.013111</td>\n",
              "    </tr>\n",
              "    <tr>\n",
              "      <th>Q</th>\n",
              "      <td>0.000000</td>\n",
              "    </tr>\n",
              "    <tr>\n",
              "      <th>S</th>\n",
              "      <td>0.000000</td>\n",
              "    </tr>\n",
              "    <tr>\n",
              "      <th>Parch</th>\n",
              "      <td>0.000000</td>\n",
              "    </tr>\n",
              "  </tbody>\n",
              "</table>\n",
              "</div>"
            ],
            "text/plain": [
              "                Feature Imp\n",
              "Sex                0.432083\n",
              "Cabin_Misssing     0.196036\n",
              "Age                0.130082\n",
              "Pclass             0.109463\n",
              "SibSp              0.071346\n",
              "Fare               0.047878\n",
              "C                  0.013111\n",
              "Q                  0.000000\n",
              "S                  0.000000\n",
              "Parch              0.000000"
            ]
          },
          "metadata": {},
          "execution_count": 89
        }
      ]
    },
    {
      "cell_type": "markdown",
      "metadata": {
        "id": "H51nmJJtCj4B"
      },
      "source": [
        "<h4>6. Random Forest</h4>"
      ]
    },
    {
      "cell_type": "code",
      "metadata": {
        "id": "NaX_CKLqCXdP",
        "colab": {
          "base_uri": "https://localhost:8080/"
        },
        "outputId": "c32c0af3-dc4e-4451-9ec8-95bfee882b36"
      },
      "source": [
        "file_name_rf = dir + model_dir + '/random_forest.sav'\n",
        "if not os.path.isfile(file_name_rf):\n",
        "  # n_estimators = [5, 10, 50, 100, 200, 500, 1000, 10000]\n",
        "  n_estimators = [100, 500, 1000, 10000]\n",
        "  max_depth = [5, 6, 7, 8, 10, 15]\n",
        "  max_samples = [0.5, 0.6, 0.7, 0.8, 0.9, 1.0]\n",
        "  rf_param_grid = dict(n_estimators = n_estimators, max_depth = max_depth, max_samples = max_samples)\n",
        "  # param_grid['max_samples'] = [0.01, 0.1, 0.2, 0.3, 0.4, 0.5, 0.6, 0.7, 0.8, 0.9, 1.0]\n",
        "  # rf_param_grid['max_samples'] = [0.2, 0.3]\n",
        "  # rf_param_grid['max_depth'] = [3, 4]\n",
        "  # rf_param_grid['min_samples_split'] = [8, 16]\n",
        "  # del param_grid['splitter']\n",
        "  rf = RandomForestClassifier(random_state = 0)\n",
        "  model = GridSearchCV(rf, rf_param_grid, cv = 5, return_train_score=True)\n",
        "  start = time.time()\n",
        "  model.fit(train_x, train_y)\n",
        "  end = time.time()\n",
        "  print(f'Training time: {end-start}')\n",
        "  print(model.best_params_)\n",
        "\n",
        "  model_rf = RandomForestClassifier(**model.best_params_, random_state=0, n_jobs = -1)\n",
        "  model_rf.fit(train_x, train_y)\n",
        "  pkl.dump(model_rf, open(file_name_rf, 'wb'))\n",
        "else:\n",
        "  model_rf = pkl.load(open(file_name_rf, 'rb'))\n",
        "\n",
        "train_acc_rf = model_rf.score(train_x, train_y)\n",
        "test_acc_rf = model_rf.score(test_x, test_y)\n",
        "print(f'''Train accuracy : {train_acc_rf}; Test accuracy : {test_acc_rf}''')"
      ],
      "execution_count": 90,
      "outputs": [
        {
          "output_type": "stream",
          "name": "stdout",
          "text": [
            "Train accuracy : 0.9138840070298769; Test accuracy : 0.8321678321678322\n"
          ]
        }
      ]
    },
    {
      "cell_type": "markdown",
      "metadata": {
        "id": "gw2PbOPQdxMy"
      },
      "source": [
        "<h4>7. XGBoost </h4> "
      ]
    },
    {
      "cell_type": "code",
      "metadata": {
        "id": "zijg5PnadvGR",
        "colab": {
          "base_uri": "https://localhost:8080/"
        },
        "outputId": "d3e26744-19fe-441f-b0fe-a6bb642e7486"
      },
      "source": [
        "file_name_xgb = dir + model_dir + '/xgboost.sav'\n",
        "if not os.path.isfile(file_name_xgb):\n",
        "  print('hkkhj') \n",
        "  clf = XGBClassifier(n_jobs= -1, class_weight='balanced')\n",
        "  no_of_estimators = [5, 10, 50, 100, 120, 150, 200, 500]\n",
        "  maximumdepth = [1, 5, 7, 10, 15, 25, 30]\n",
        "  parameters = {'n_estimators': no_of_estimators ,'max_depth':maximumdepth}\n",
        "  model_xgb = GridSearchCV(estimator=clf, param_grid=parameters, cv=5, n_jobs=-1, return_train_score=True)\n",
        "  model_xgb.fit(train_x, train_y)\n",
        "  print(\"Model with best parameters :\\n\",model_xgb.best_params_)\n",
        "\n",
        "  model_xgb = XGBClassifier(**model_xgb.best_params_, random_state=0, n_jobs = -1)\n",
        "  model_xgb.fit(train_x, train_y)\n",
        "  pkl.dump(model_rf, open(file_name_xgb, 'wb'))\n",
        "else:\n",
        "  model_xgb = pkl.load(open(file_name_xgb, 'rb'))\n",
        "\n",
        "train_acc_xgb = model_xgb.score(train_x, train_y)\n",
        "test_acc_xgb = model_xgb.score(test_x, test_y)\n",
        "print(f'''Train accuracy : {train_acc_xgb}; Test accuracy : {test_acc_xgb}''')"
      ],
      "execution_count": 91,
      "outputs": [
        {
          "output_type": "stream",
          "name": "stdout",
          "text": [
            "Train accuracy : 0.9138840070298769; Test accuracy : 0.8321678321678322\n"
          ]
        }
      ]
    },
    {
      "cell_type": "markdown",
      "metadata": {
        "id": "k2zyqRQPj2DZ"
      },
      "source": [
        "<h4>Running Final Model on Test Data</h4>"
      ]
    },
    {
      "cell_type": "code",
      "metadata": {
        "colab": {
          "base_uri": "https://localhost:8080/",
          "height": 206
        },
        "id": "J4a5cOF0jvaJ",
        "outputId": "5be41bc3-3d45-4eb1-fa35-e48c0c881a74"
      },
      "source": [
        "test_data = pd.read_csv(dir + '/test.csv')\n",
        "test_data.tail(5)"
      ],
      "execution_count": 92,
      "outputs": [
        {
          "output_type": "execute_result",
          "data": {
            "text/html": [
              "<div>\n",
              "<style scoped>\n",
              "    .dataframe tbody tr th:only-of-type {\n",
              "        vertical-align: middle;\n",
              "    }\n",
              "\n",
              "    .dataframe tbody tr th {\n",
              "        vertical-align: top;\n",
              "    }\n",
              "\n",
              "    .dataframe thead th {\n",
              "        text-align: right;\n",
              "    }\n",
              "</style>\n",
              "<table border=\"1\" class=\"dataframe\">\n",
              "  <thead>\n",
              "    <tr style=\"text-align: right;\">\n",
              "      <th></th>\n",
              "      <th>PassengerId</th>\n",
              "      <th>Pclass</th>\n",
              "      <th>Name</th>\n",
              "      <th>Sex</th>\n",
              "      <th>Age</th>\n",
              "      <th>SibSp</th>\n",
              "      <th>Parch</th>\n",
              "      <th>Ticket</th>\n",
              "      <th>Fare</th>\n",
              "      <th>Cabin</th>\n",
              "      <th>Embarked</th>\n",
              "    </tr>\n",
              "  </thead>\n",
              "  <tbody>\n",
              "    <tr>\n",
              "      <th>413</th>\n",
              "      <td>1305</td>\n",
              "      <td>3</td>\n",
              "      <td>Spector, Mr. Woolf</td>\n",
              "      <td>male</td>\n",
              "      <td>NaN</td>\n",
              "      <td>0</td>\n",
              "      <td>0</td>\n",
              "      <td>A.5. 3236</td>\n",
              "      <td>8.0500</td>\n",
              "      <td>NaN</td>\n",
              "      <td>S</td>\n",
              "    </tr>\n",
              "    <tr>\n",
              "      <th>414</th>\n",
              "      <td>1306</td>\n",
              "      <td>1</td>\n",
              "      <td>Oliva y Ocana, Dona. Fermina</td>\n",
              "      <td>female</td>\n",
              "      <td>39.0</td>\n",
              "      <td>0</td>\n",
              "      <td>0</td>\n",
              "      <td>PC 17758</td>\n",
              "      <td>108.9000</td>\n",
              "      <td>C105</td>\n",
              "      <td>C</td>\n",
              "    </tr>\n",
              "    <tr>\n",
              "      <th>415</th>\n",
              "      <td>1307</td>\n",
              "      <td>3</td>\n",
              "      <td>Saether, Mr. Simon Sivertsen</td>\n",
              "      <td>male</td>\n",
              "      <td>38.5</td>\n",
              "      <td>0</td>\n",
              "      <td>0</td>\n",
              "      <td>SOTON/O.Q. 3101262</td>\n",
              "      <td>7.2500</td>\n",
              "      <td>NaN</td>\n",
              "      <td>S</td>\n",
              "    </tr>\n",
              "    <tr>\n",
              "      <th>416</th>\n",
              "      <td>1308</td>\n",
              "      <td>3</td>\n",
              "      <td>Ware, Mr. Frederick</td>\n",
              "      <td>male</td>\n",
              "      <td>NaN</td>\n",
              "      <td>0</td>\n",
              "      <td>0</td>\n",
              "      <td>359309</td>\n",
              "      <td>8.0500</td>\n",
              "      <td>NaN</td>\n",
              "      <td>S</td>\n",
              "    </tr>\n",
              "    <tr>\n",
              "      <th>417</th>\n",
              "      <td>1309</td>\n",
              "      <td>3</td>\n",
              "      <td>Peter, Master. Michael J</td>\n",
              "      <td>male</td>\n",
              "      <td>NaN</td>\n",
              "      <td>1</td>\n",
              "      <td>1</td>\n",
              "      <td>2668</td>\n",
              "      <td>22.3583</td>\n",
              "      <td>NaN</td>\n",
              "      <td>C</td>\n",
              "    </tr>\n",
              "  </tbody>\n",
              "</table>\n",
              "</div>"
            ],
            "text/plain": [
              "     PassengerId  Pclass                          Name  ...      Fare  Cabin  Embarked\n",
              "413         1305       3            Spector, Mr. Woolf  ...    8.0500    NaN         S\n",
              "414         1306       1  Oliva y Ocana, Dona. Fermina  ...  108.9000   C105         C\n",
              "415         1307       3  Saether, Mr. Simon Sivertsen  ...    7.2500    NaN         S\n",
              "416         1308       3           Ware, Mr. Frederick  ...    8.0500    NaN         S\n",
              "417         1309       3      Peter, Master. Michael J  ...   22.3583    NaN         C\n",
              "\n",
              "[5 rows x 11 columns]"
            ]
          },
          "metadata": {},
          "execution_count": 92
        }
      ]
    },
    {
      "cell_type": "code",
      "metadata": {
        "colab": {
          "base_uri": "https://localhost:8080/",
          "height": 412
        },
        "id": "G9NoJedzkqsY",
        "outputId": "5e3eeb8f-b289-4ce0-a430-f34d27f0c347"
      },
      "source": [
        "print(f'''No of Duplicate rows: {len(test_data) - test_data[test_data.duplicated(['Name'])==False].shape[0]}''')\n",
        "pd.DataFrame(100*test_data.isnull().sum()/test_data.shape[0], columns=['Missing (in %)'])"
      ],
      "execution_count": 93,
      "outputs": [
        {
          "output_type": "stream",
          "name": "stdout",
          "text": [
            "No of Duplicate rows: 0\n"
          ]
        },
        {
          "output_type": "execute_result",
          "data": {
            "text/html": [
              "<div>\n",
              "<style scoped>\n",
              "    .dataframe tbody tr th:only-of-type {\n",
              "        vertical-align: middle;\n",
              "    }\n",
              "\n",
              "    .dataframe tbody tr th {\n",
              "        vertical-align: top;\n",
              "    }\n",
              "\n",
              "    .dataframe thead th {\n",
              "        text-align: right;\n",
              "    }\n",
              "</style>\n",
              "<table border=\"1\" class=\"dataframe\">\n",
              "  <thead>\n",
              "    <tr style=\"text-align: right;\">\n",
              "      <th></th>\n",
              "      <th>Missing (in %)</th>\n",
              "    </tr>\n",
              "  </thead>\n",
              "  <tbody>\n",
              "    <tr>\n",
              "      <th>PassengerId</th>\n",
              "      <td>0.000000</td>\n",
              "    </tr>\n",
              "    <tr>\n",
              "      <th>Pclass</th>\n",
              "      <td>0.000000</td>\n",
              "    </tr>\n",
              "    <tr>\n",
              "      <th>Name</th>\n",
              "      <td>0.000000</td>\n",
              "    </tr>\n",
              "    <tr>\n",
              "      <th>Sex</th>\n",
              "      <td>0.000000</td>\n",
              "    </tr>\n",
              "    <tr>\n",
              "      <th>Age</th>\n",
              "      <td>20.574163</td>\n",
              "    </tr>\n",
              "    <tr>\n",
              "      <th>SibSp</th>\n",
              "      <td>0.000000</td>\n",
              "    </tr>\n",
              "    <tr>\n",
              "      <th>Parch</th>\n",
              "      <td>0.000000</td>\n",
              "    </tr>\n",
              "    <tr>\n",
              "      <th>Ticket</th>\n",
              "      <td>0.000000</td>\n",
              "    </tr>\n",
              "    <tr>\n",
              "      <th>Fare</th>\n",
              "      <td>0.239234</td>\n",
              "    </tr>\n",
              "    <tr>\n",
              "      <th>Cabin</th>\n",
              "      <td>78.229665</td>\n",
              "    </tr>\n",
              "    <tr>\n",
              "      <th>Embarked</th>\n",
              "      <td>0.000000</td>\n",
              "    </tr>\n",
              "  </tbody>\n",
              "</table>\n",
              "</div>"
            ],
            "text/plain": [
              "             Missing (in %)\n",
              "PassengerId        0.000000\n",
              "Pclass             0.000000\n",
              "Name               0.000000\n",
              "Sex                0.000000\n",
              "Age               20.574163\n",
              "SibSp              0.000000\n",
              "Parch              0.000000\n",
              "Ticket             0.000000\n",
              "Fare               0.239234\n",
              "Cabin             78.229665\n",
              "Embarked           0.000000"
            ]
          },
          "metadata": {},
          "execution_count": 93
        }
      ]
    },
    {
      "cell_type": "code",
      "metadata": {
        "colab": {
          "base_uri": "https://localhost:8080/",
          "height": 224
        },
        "id": "hQgBxm_zmE4p",
        "outputId": "4caeab22-2126-4efd-d6b7-f1635a8e84f9"
      },
      "source": [
        "median_age = df['Age'].median()\n",
        "median_fare = df['Fare'].median()\n",
        "print(f'Avg Age: {median_age}| Average Fare : {median_fare}')\n",
        "test_data['Cabin_Misssing'] = test_data['Cabin'].isnull().map(lambda x : 1 if x==True else 0)\n",
        " \n",
        "test_data['Age'] = (test_data['Age'] - test_data['Age'].mean())/test_data['Age'].std()\n",
        "test_data['Fare'] = (test_data['Fare'] - test_data['Fare'].mean())/test_data['Fare'].std()\n",
        "\n",
        "test_data['Age'] = test_data['Age'].map(lambda x: median_age if pd.isna(x) else x)\n",
        "test_data['Fare'] = test_data['Fare'].map(lambda x: median_fare if pd.isna(x) else x)\n",
        "\n",
        "# Converting Embarked to one hot encoding\n",
        "test_data['S'] = [1 if x == 'S' else 0 for x in test_data['Embarked']]\n",
        "test_data['C'] = [1 if x == 'C' else 0 for x in test_data['Embarked']]\n",
        "test_data['Q'] = [1 if x == 'Q' else 0 for x in test_data['Embarked']]\n",
        "\n",
        "test_data['Sex'] = [1 if x == 'male' else 0 for x in test_data['Sex']]\n",
        "\n",
        "# saving Passenger ids before dropping\n",
        "pids = test_data['PassengerId']\n",
        "\n",
        "test_data.drop(['Cabin', 'Name', 'Ticket', 'Embarked', 'PassengerId'], axis = 1, inplace=True)\n",
        "\n",
        "test_data.tail(5)"
      ],
      "execution_count": 94,
      "outputs": [
        {
          "output_type": "stream",
          "name": "stdout",
          "text": [
            "Avg Age: -0.11330299449551398| Average Fare : -0.35742131801418364\n"
          ]
        },
        {
          "output_type": "execute_result",
          "data": {
            "text/html": [
              "<div>\n",
              "<style scoped>\n",
              "    .dataframe tbody tr th:only-of-type {\n",
              "        vertical-align: middle;\n",
              "    }\n",
              "\n",
              "    .dataframe tbody tr th {\n",
              "        vertical-align: top;\n",
              "    }\n",
              "\n",
              "    .dataframe thead th {\n",
              "        text-align: right;\n",
              "    }\n",
              "</style>\n",
              "<table border=\"1\" class=\"dataframe\">\n",
              "  <thead>\n",
              "    <tr style=\"text-align: right;\">\n",
              "      <th></th>\n",
              "      <th>Pclass</th>\n",
              "      <th>Sex</th>\n",
              "      <th>Age</th>\n",
              "      <th>SibSp</th>\n",
              "      <th>Parch</th>\n",
              "      <th>Fare</th>\n",
              "      <th>Cabin_Misssing</th>\n",
              "      <th>S</th>\n",
              "      <th>C</th>\n",
              "      <th>Q</th>\n",
              "    </tr>\n",
              "  </thead>\n",
              "  <tbody>\n",
              "    <tr>\n",
              "      <th>413</th>\n",
              "      <td>3</td>\n",
              "      <td>1</td>\n",
              "      <td>-0.113303</td>\n",
              "      <td>0</td>\n",
              "      <td>0</td>\n",
              "      <td>-0.493264</td>\n",
              "      <td>1</td>\n",
              "      <td>1</td>\n",
              "      <td>0</td>\n",
              "      <td>0</td>\n",
              "    </tr>\n",
              "    <tr>\n",
              "      <th>414</th>\n",
              "      <td>1</td>\n",
              "      <td>0</td>\n",
              "      <td>0.615421</td>\n",
              "      <td>0</td>\n",
              "      <td>0</td>\n",
              "      <td>1.310606</td>\n",
              "      <td>0</td>\n",
              "      <td>0</td>\n",
              "      <td>1</td>\n",
              "      <td>0</td>\n",
              "    </tr>\n",
              "    <tr>\n",
              "      <th>415</th>\n",
              "      <td>3</td>\n",
              "      <td>1</td>\n",
              "      <td>0.580163</td>\n",
              "      <td>0</td>\n",
              "      <td>0</td>\n",
              "      <td>-0.507573</td>\n",
              "      <td>1</td>\n",
              "      <td>1</td>\n",
              "      <td>0</td>\n",
              "      <td>0</td>\n",
              "    </tr>\n",
              "    <tr>\n",
              "      <th>416</th>\n",
              "      <td>3</td>\n",
              "      <td>1</td>\n",
              "      <td>-0.113303</td>\n",
              "      <td>0</td>\n",
              "      <td>0</td>\n",
              "      <td>-0.493264</td>\n",
              "      <td>1</td>\n",
              "      <td>1</td>\n",
              "      <td>0</td>\n",
              "      <td>0</td>\n",
              "    </tr>\n",
              "    <tr>\n",
              "      <th>417</th>\n",
              "      <td>3</td>\n",
              "      <td>1</td>\n",
              "      <td>-0.113303</td>\n",
              "      <td>1</td>\n",
              "      <td>1</td>\n",
              "      <td>-0.237336</td>\n",
              "      <td>1</td>\n",
              "      <td>0</td>\n",
              "      <td>1</td>\n",
              "      <td>0</td>\n",
              "    </tr>\n",
              "  </tbody>\n",
              "</table>\n",
              "</div>"
            ],
            "text/plain": [
              "     Pclass  Sex       Age  SibSp  Parch      Fare  Cabin_Misssing  S  C  Q\n",
              "413       3    1 -0.113303      0      0 -0.493264               1  1  0  0\n",
              "414       1    0  0.615421      0      0  1.310606               0  0  1  0\n",
              "415       3    1  0.580163      0      0 -0.507573               1  1  0  0\n",
              "416       3    1 -0.113303      0      0 -0.493264               1  1  0  0\n",
              "417       3    1 -0.113303      1      1 -0.237336               1  0  1  0"
            ]
          },
          "metadata": {},
          "execution_count": 94
        }
      ]
    },
    {
      "cell_type": "code",
      "metadata": {
        "colab": {
          "base_uri": "https://localhost:8080/"
        },
        "id": "cIJTSyVSvb6f",
        "outputId": "223ef8e5-b3ee-4fe4-b2b9-572c02e7be46"
      },
      "source": [
        "test_pred = model_xgb.predict(test_data)\n",
        "test_pred"
      ],
      "execution_count": 95,
      "outputs": [
        {
          "output_type": "execute_result",
          "data": {
            "text/plain": [
              "array([0, 0, 0, 0, 0, 0, 1, 0, 1, 0, 0, 0, 1, 0, 1, 1, 0, 0, 0, 0, 0, 0,\n",
              "       1, 0, 1, 0, 1, 0, 1, 0, 0, 0, 0, 0, 1, 0, 0, 0, 0, 1, 0, 1, 0, 1,\n",
              "       1, 0, 0, 0, 1, 1, 1, 0, 1, 1, 0, 0, 0, 0, 0, 1, 0, 0, 0, 1, 1, 1,\n",
              "       1, 0, 0, 1, 1, 0, 1, 1, 1, 0, 0, 1, 0, 1, 1, 0, 0, 0, 0, 0, 1, 0,\n",
              "       1, 1, 0, 0, 1, 0, 0, 0, 1, 0, 0, 0, 1, 0, 0, 0, 1, 0, 0, 0, 0, 0,\n",
              "       0, 1, 1, 1, 1, 0, 0, 1, 0, 1, 1, 0, 1, 0, 0, 1, 0, 0, 0, 0, 0, 0,\n",
              "       0, 0, 0, 0, 0, 0, 0, 0, 0, 1, 0, 0, 0, 0, 0, 0, 0, 0, 1, 0, 0, 1,\n",
              "       0, 0, 1, 0, 1, 0, 1, 1, 1, 0, 0, 0, 0, 0, 1, 0, 0, 0, 0, 0, 0, 1,\n",
              "       1, 1, 1, 1, 0, 1, 1, 0, 1, 0, 1, 0, 0, 0, 0, 0, 1, 0, 1, 0, 1, 0,\n",
              "       0, 0, 0, 1, 1, 1, 0, 0, 0, 0, 1, 0, 0, 0, 0, 0, 0, 0, 1, 0, 1, 0,\n",
              "       1, 0, 1, 0, 1, 1, 0, 1, 0, 0, 0, 1, 0, 0, 1, 0, 1, 0, 1, 1, 1, 1,\n",
              "       0, 0, 0, 1, 1, 0, 1, 1, 1, 0, 1, 0, 0, 0, 0, 0, 1, 0, 0, 0, 1, 1,\n",
              "       0, 0, 0, 0, 0, 0, 0, 0, 1, 0, 0, 1, 0, 0, 0, 0, 0, 1, 1, 0, 1, 0,\n",
              "       0, 0, 0, 0, 0, 1, 0, 0, 0, 0, 1, 0, 0, 0, 0, 0, 0, 0, 1, 1, 1, 1,\n",
              "       0, 0, 0, 0, 0, 0, 1, 1, 1, 0, 0, 0, 0, 0, 0, 0, 1, 0, 1, 0, 0, 0,\n",
              "       1, 0, 0, 0, 0, 1, 0, 0, 0, 0, 0, 0, 0, 1, 0, 1, 0, 1, 0, 1, 1, 0,\n",
              "       0, 0, 1, 1, 1, 0, 0, 0, 0, 1, 1, 0, 1, 0, 0, 0, 1, 0, 0, 1, 0, 0,\n",
              "       1, 1, 0, 0, 0, 0, 0, 0, 1, 0, 0, 1, 0, 0, 0, 0, 0, 1, 1, 0, 0, 1,\n",
              "       0, 1, 0, 0, 1, 0, 1, 0, 1, 0, 0, 0, 1, 1, 1, 1, 1, 0, 1, 0, 0, 0])"
            ]
          },
          "metadata": {},
          "execution_count": 95
        }
      ]
    },
    {
      "cell_type": "code",
      "metadata": {
        "id": "BU7SuXG4xp-o"
      },
      "source": [
        "final_submission = pd.DataFrame(zip(pids, test_pred), columns = ['PassengerId', 'Survived'])\n",
        "final_submission.to_csv(dir + '/submission_1.csv', index = False)"
      ],
      "execution_count": 96,
      "outputs": []
    }
  ]
}